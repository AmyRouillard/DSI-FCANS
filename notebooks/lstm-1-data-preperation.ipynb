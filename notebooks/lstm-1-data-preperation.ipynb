{
 "cells": [
  {
   "cell_type": "markdown",
   "id": "bd0a8929",
   "metadata": {
    "papermill": {
     "duration": 0.038201,
     "end_time": "2022-03-05T09:59:22.744542",
     "exception": false,
     "start_time": "2022-03-05T09:59:22.706341",
     "status": "completed"
    },
    "tags": []
   },
   "source": [
    "# ⚙ Data preperation\n",
    "\n",
    "## Load libraries"
   ]
  },
  {
   "cell_type": "code",
   "execution_count": 1,
   "id": "80e0189e",
   "metadata": {
    "execution": {
     "iopub.execute_input": "2022-03-05T09:59:22.830230Z",
     "iopub.status.busy": "2022-03-05T09:59:22.823811Z",
     "iopub.status.idle": "2022-03-05T09:59:23.878466Z",
     "shell.execute_reply": "2022-03-05T09:59:23.877576Z",
     "shell.execute_reply.started": "2022-03-05T09:52:19.121578Z"
    },
    "papermill": {
     "duration": 1.094187,
     "end_time": "2022-03-05T09:59:23.878636",
     "exception": false,
     "start_time": "2022-03-05T09:59:22.784449",
     "status": "completed"
    },
    "tags": []
   },
   "outputs": [],
   "source": [
    "import numpy as np\n",
    "import pandas as pd \n",
    "import matplotlib.pyplot as plt\n",
    "import seaborn as sns\n",
    "from tqdm import tqdm\n",
    "import os\n",
    "import random"
   ]
  },
  {
   "cell_type": "markdown",
   "id": "033c3a2d",
   "metadata": {
    "papermill": {
     "duration": 0.035488,
     "end_time": "2022-03-05T09:59:23.950788",
     "exception": false,
     "start_time": "2022-03-05T09:59:23.915300",
     "status": "completed"
    },
    "tags": []
   },
   "source": [
    "## Load training dataset"
   ]
  },
  {
   "cell_type": "code",
   "execution_count": 2,
   "id": "3daea918",
   "metadata": {
    "execution": {
     "iopub.execute_input": "2022-03-05T09:59:24.027604Z",
     "iopub.status.busy": "2022-03-05T09:59:24.027012Z",
     "iopub.status.idle": "2022-03-05T10:00:00.982517Z",
     "shell.execute_reply": "2022-03-05T10:00:00.983242Z",
     "shell.execute_reply.started": "2022-03-05T09:52:20.187934Z"
    },
    "papermill": {
     "duration": 36.995602,
     "end_time": "2022-03-05T10:00:00.983423",
     "exception": false,
     "start_time": "2022-03-05T09:59:23.987821",
     "status": "completed"
    },
    "tags": []
   },
   "outputs": [],
   "source": [
    "df = pd.read_parquet('../input/ubiquant-parquet/train_low_mem.parquet')"
   ]
  },
  {
   "cell_type": "markdown",
   "id": "c3b38e9f",
   "metadata": {
    "papermill": {
     "duration": 0.036648,
     "end_time": "2022-03-05T10:00:01.058577",
     "exception": false,
     "start_time": "2022-03-05T10:00:01.021929",
     "status": "completed"
    },
    "tags": []
   },
   "source": [
    "## Inspect the last 55 avaliable time IDs"
   ]
  },
  {
   "cell_type": "code",
   "execution_count": 3,
   "id": "22875839",
   "metadata": {
    "execution": {
     "iopub.execute_input": "2022-03-05T10:00:01.136857Z",
     "iopub.status.busy": "2022-03-05T10:00:01.135788Z",
     "iopub.status.idle": "2022-03-05T10:00:01.163651Z",
     "shell.execute_reply": "2022-03-05T10:00:01.164214Z",
     "shell.execute_reply.started": "2022-03-05T09:53:00.771443Z"
    },
    "papermill": {
     "duration": 0.068224,
     "end_time": "2022-03-05T10:00:01.164388",
     "exception": false,
     "start_time": "2022-03-05T10:00:01.096164",
     "status": "completed"
    },
    "tags": []
   },
   "outputs": [
    {
     "name": "stdout",
     "output_type": "stream",
     "text": [
      "[1165 1166 1167 1168 1169 1170 1171 1172 1173 1174 1175 1176 1177 1178\n",
      " 1179 1180 1181 1182 1183 1184 1185 1186 1187 1188 1189 1190 1191 1192\n",
      " 1193 1194 1195 1196 1197 1198 1199 1200 1201 1202 1203 1204 1205 1206\n",
      " 1207 1208 1209 1210 1211 1212 1213 1214 1215 1216 1217 1218 1219]\n"
     ]
    }
   ],
   "source": [
    "time = df['time_id'].unique()\n",
    "print(time[-55:])"
   ]
  },
  {
   "cell_type": "markdown",
   "id": "4d632a72",
   "metadata": {
    "papermill": {
     "duration": 0.036767,
     "end_time": "2022-03-05T10:00:01.238948",
     "exception": false,
     "start_time": "2022-03-05T10:00:01.202181",
     "status": "completed"
    },
    "tags": []
   },
   "source": [
    "## Drop a portion of time IDs"
   ]
  },
  {
   "cell_type": "code",
   "execution_count": 4,
   "id": "8a016332",
   "metadata": {
    "execution": {
     "iopub.execute_input": "2022-03-05T10:00:01.319684Z",
     "iopub.status.busy": "2022-03-05T10:00:01.319021Z",
     "iopub.status.idle": "2022-03-05T10:00:05.043275Z",
     "shell.execute_reply": "2022-03-05T10:00:05.043834Z",
     "shell.execute_reply.started": "2022-03-05T09:53:00.802143Z"
    },
    "papermill": {
     "duration": 3.768388,
     "end_time": "2022-03-05T10:00:05.044029",
     "exception": false,
     "start_time": "2022-03-05T10:00:01.275641",
     "status": "completed"
    },
    "tags": []
   },
   "outputs": [
    {
     "name": "stdout",
     "output_type": "stream",
     "text": [
      "30\n"
     ]
    },
    {
     "data": {
      "text/html": [
       "<div>\n",
       "<style scoped>\n",
       "    .dataframe tbody tr th:only-of-type {\n",
       "        vertical-align: middle;\n",
       "    }\n",
       "\n",
       "    .dataframe tbody tr th {\n",
       "        vertical-align: top;\n",
       "    }\n",
       "\n",
       "    .dataframe thead th {\n",
       "        text-align: right;\n",
       "    }\n",
       "</style>\n",
       "<table border=\"1\" class=\"dataframe\">\n",
       "  <thead>\n",
       "    <tr style=\"text-align: right;\">\n",
       "      <th></th>\n",
       "      <th>row_id</th>\n",
       "      <th>time_id</th>\n",
       "      <th>investment_id</th>\n",
       "      <th>target</th>\n",
       "      <th>f_0</th>\n",
       "      <th>f_1</th>\n",
       "      <th>f_2</th>\n",
       "      <th>f_3</th>\n",
       "      <th>f_4</th>\n",
       "      <th>f_5</th>\n",
       "      <th>...</th>\n",
       "      <th>f_290</th>\n",
       "      <th>f_291</th>\n",
       "      <th>f_292</th>\n",
       "      <th>f_293</th>\n",
       "      <th>f_294</th>\n",
       "      <th>f_295</th>\n",
       "      <th>f_296</th>\n",
       "      <th>f_297</th>\n",
       "      <th>f_298</th>\n",
       "      <th>f_299</th>\n",
       "    </tr>\n",
       "  </thead>\n",
       "  <tbody>\n",
       "    <tr>\n",
       "      <th>3039038</th>\n",
       "      <td>1190_0</td>\n",
       "      <td>1190</td>\n",
       "      <td>0</td>\n",
       "      <td>-0.275204</td>\n",
       "      <td>-0.699480</td>\n",
       "      <td>1.753958</td>\n",
       "      <td>-1.149581</td>\n",
       "      <td>0.501886</td>\n",
       "      <td>0.378265</td>\n",
       "      <td>1.014885</td>\n",
       "      <td>...</td>\n",
       "      <td>1.077533</td>\n",
       "      <td>1.591306</td>\n",
       "      <td>1.733118</td>\n",
       "      <td>0.109469</td>\n",
       "      <td>2.995621</td>\n",
       "      <td>0.206071</td>\n",
       "      <td>-0.099151</td>\n",
       "      <td>-2.406765</td>\n",
       "      <td>-0.658959</td>\n",
       "      <td>0.542424</td>\n",
       "    </tr>\n",
       "    <tr>\n",
       "      <th>3039039</th>\n",
       "      <td>1190_1</td>\n",
       "      <td>1190</td>\n",
       "      <td>1</td>\n",
       "      <td>-2.122237</td>\n",
       "      <td>0.129197</td>\n",
       "      <td>1.405702</td>\n",
       "      <td>0.217612</td>\n",
       "      <td>-0.219672</td>\n",
       "      <td>-0.150986</td>\n",
       "      <td>0.002175</td>\n",
       "      <td>...</td>\n",
       "      <td>0.614218</td>\n",
       "      <td>0.199014</td>\n",
       "      <td>0.486399</td>\n",
       "      <td>0.708371</td>\n",
       "      <td>1.123878</td>\n",
       "      <td>-0.457443</td>\n",
       "      <td>-0.257334</td>\n",
       "      <td>-0.979053</td>\n",
       "      <td>-2.088422</td>\n",
       "      <td>-0.313193</td>\n",
       "    </tr>\n",
       "    <tr>\n",
       "      <th>3039040</th>\n",
       "      <td>1190_2</td>\n",
       "      <td>1190</td>\n",
       "      <td>2</td>\n",
       "      <td>0.068803</td>\n",
       "      <td>1.563168</td>\n",
       "      <td>0.801341</td>\n",
       "      <td>-0.649677</td>\n",
       "      <td>-0.160695</td>\n",
       "      <td>-0.185313</td>\n",
       "      <td>0.099784</td>\n",
       "      <td>...</td>\n",
       "      <td>-1.128734</td>\n",
       "      <td>0.585466</td>\n",
       "      <td>-1.463381</td>\n",
       "      <td>-0.561141</td>\n",
       "      <td>0.545990</td>\n",
       "      <td>-0.326550</td>\n",
       "      <td>0.585217</td>\n",
       "      <td>0.197166</td>\n",
       "      <td>-1.353786</td>\n",
       "      <td>-0.311518</td>\n",
       "    </tr>\n",
       "    <tr>\n",
       "      <th>3039041</th>\n",
       "      <td>1190_3</td>\n",
       "      <td>1190</td>\n",
       "      <td>3</td>\n",
       "      <td>-0.005059</td>\n",
       "      <td>-0.032720</td>\n",
       "      <td>-0.694698</td>\n",
       "      <td>-1.669162</td>\n",
       "      <td>0.864283</td>\n",
       "      <td>0.194807</td>\n",
       "      <td>-2.077522</td>\n",
       "      <td>...</td>\n",
       "      <td>-0.791586</td>\n",
       "      <td>-1.524765</td>\n",
       "      <td>0.062602</td>\n",
       "      <td>-0.098907</td>\n",
       "      <td>-1.078261</td>\n",
       "      <td>0.628101</td>\n",
       "      <td>-3.682928</td>\n",
       "      <td>-1.947962</td>\n",
       "      <td>-0.787047</td>\n",
       "      <td>2.245104</td>\n",
       "    </tr>\n",
       "    <tr>\n",
       "      <th>3039042</th>\n",
       "      <td>1190_4</td>\n",
       "      <td>1190</td>\n",
       "      <td>4</td>\n",
       "      <td>1.316753</td>\n",
       "      <td>0.736624</td>\n",
       "      <td>-0.462361</td>\n",
       "      <td>-1.065353</td>\n",
       "      <td>-0.588141</td>\n",
       "      <td>0.196450</td>\n",
       "      <td>1.198063</td>\n",
       "      <td>...</td>\n",
       "      <td>-0.165893</td>\n",
       "      <td>0.415816</td>\n",
       "      <td>0.612639</td>\n",
       "      <td>-0.331669</td>\n",
       "      <td>1.208506</td>\n",
       "      <td>0.601037</td>\n",
       "      <td>0.539700</td>\n",
       "      <td>0.594945</td>\n",
       "      <td>-1.746073</td>\n",
       "      <td>0.057862</td>\n",
       "    </tr>\n",
       "  </tbody>\n",
       "</table>\n",
       "<p>5 rows × 304 columns</p>\n",
       "</div>"
      ],
      "text/plain": [
       "         row_id  time_id  investment_id    target       f_0       f_1  \\\n",
       "3039038  1190_0     1190              0 -0.275204 -0.699480  1.753958   \n",
       "3039039  1190_1     1190              1 -2.122237  0.129197  1.405702   \n",
       "3039040  1190_2     1190              2  0.068803  1.563168  0.801341   \n",
       "3039041  1190_3     1190              3 -0.005059 -0.032720 -0.694698   \n",
       "3039042  1190_4     1190              4  1.316753  0.736624 -0.462361   \n",
       "\n",
       "              f_2       f_3       f_4       f_5  ...     f_290     f_291  \\\n",
       "3039038 -1.149581  0.501886  0.378265  1.014885  ...  1.077533  1.591306   \n",
       "3039039  0.217612 -0.219672 -0.150986  0.002175  ...  0.614218  0.199014   \n",
       "3039040 -0.649677 -0.160695 -0.185313  0.099784  ... -1.128734  0.585466   \n",
       "3039041 -1.669162  0.864283  0.194807 -2.077522  ... -0.791586 -1.524765   \n",
       "3039042 -1.065353 -0.588141  0.196450  1.198063  ... -0.165893  0.415816   \n",
       "\n",
       "            f_292     f_293     f_294     f_295     f_296     f_297     f_298  \\\n",
       "3039038  1.733118  0.109469  2.995621  0.206071 -0.099151 -2.406765 -0.658959   \n",
       "3039039  0.486399  0.708371  1.123878 -0.457443 -0.257334 -0.979053 -2.088422   \n",
       "3039040 -1.463381 -0.561141  0.545990 -0.326550  0.585217  0.197166 -1.353786   \n",
       "3039041  0.062602 -0.098907 -1.078261  0.628101 -3.682928 -1.947962 -0.787047   \n",
       "3039042  0.612639 -0.331669  1.208506  0.601037  0.539700  0.594945 -1.746073   \n",
       "\n",
       "            f_299  \n",
       "3039038  0.542424  \n",
       "3039039 -0.313193  \n",
       "3039040 -0.311518  \n",
       "3039041  2.245104  \n",
       "3039042  0.057862  \n",
       "\n",
       "[5 rows x 304 columns]"
      ]
     },
     "execution_count": 4,
     "metadata": {},
     "output_type": "execute_result"
    }
   ],
   "source": [
    "df.drop(df[df['time_id'] < 1190].index,inplace = True)\n",
    "\n",
    "time = df['time_id'].unique()\n",
    "print(len(time))\n",
    "\n",
    "df.head()"
   ]
  },
  {
   "cell_type": "markdown",
   "id": "b4b93250",
   "metadata": {
    "papermill": {
     "duration": 0.042682,
     "end_time": "2022-03-05T10:00:05.124746",
     "exception": false,
     "start_time": "2022-03-05T10:00:05.082064",
     "status": "completed"
    },
    "tags": []
   },
   "source": [
    "## Compute the mean and standard deviation of each feature\n",
    "\n",
    "Store in metadata dataframe and save to zip file to be used later"
   ]
  },
  {
   "cell_type": "code",
   "execution_count": 5,
   "id": "49186140",
   "metadata": {
    "execution": {
     "iopub.execute_input": "2022-03-05T10:00:05.204225Z",
     "iopub.status.busy": "2022-03-05T10:00:05.203252Z",
     "iopub.status.idle": "2022-03-05T10:00:05.460422Z",
     "shell.execute_reply": "2022-03-05T10:00:05.460930Z",
     "shell.execute_reply.started": "2022-03-05T09:53:04.877317Z"
    },
    "papermill": {
     "duration": 0.298327,
     "end_time": "2022-03-05T10:00:05.461102",
     "exception": false,
     "start_time": "2022-03-05T10:00:05.162775",
     "status": "completed"
    },
    "tags": []
   },
   "outputs": [
    {
     "data": {
      "text/html": [
       "<div>\n",
       "<style scoped>\n",
       "    .dataframe tbody tr th:only-of-type {\n",
       "        vertical-align: middle;\n",
       "    }\n",
       "\n",
       "    .dataframe tbody tr th {\n",
       "        vertical-align: top;\n",
       "    }\n",
       "\n",
       "    .dataframe thead th {\n",
       "        text-align: right;\n",
       "    }\n",
       "</style>\n",
       "<table border=\"1\" class=\"dataframe\">\n",
       "  <thead>\n",
       "    <tr style=\"text-align: right;\">\n",
       "      <th></th>\n",
       "      <th>mean</th>\n",
       "      <th>std</th>\n",
       "    </tr>\n",
       "  </thead>\n",
       "  <tbody>\n",
       "    <tr>\n",
       "      <th>0</th>\n",
       "      <td>-0.001332</td>\n",
       "      <td>1.111438</td>\n",
       "    </tr>\n",
       "    <tr>\n",
       "      <th>1</th>\n",
       "      <td>-0.011045</td>\n",
       "      <td>1.060394</td>\n",
       "    </tr>\n",
       "    <tr>\n",
       "      <th>2</th>\n",
       "      <td>0.008783</td>\n",
       "      <td>1.044003</td>\n",
       "    </tr>\n",
       "    <tr>\n",
       "      <th>3</th>\n",
       "      <td>-0.020013</td>\n",
       "      <td>0.993583</td>\n",
       "    </tr>\n",
       "    <tr>\n",
       "      <th>4</th>\n",
       "      <td>0.001098</td>\n",
       "      <td>1.047791</td>\n",
       "    </tr>\n",
       "  </tbody>\n",
       "</table>\n",
       "</div>"
      ],
      "text/plain": [
       "       mean       std\n",
       "0 -0.001332  1.111438\n",
       "1 -0.011045  1.060394\n",
       "2  0.008783  1.044003\n",
       "3 -0.020013  0.993583\n",
       "4  0.001098  1.047791"
      ]
     },
     "execution_count": 5,
     "metadata": {},
     "output_type": "execute_result"
    }
   ],
   "source": [
    "metadata = pd.DataFrame(columns=['mean', 'std'],index=range(300))\n",
    "\n",
    "for index in range(300):\n",
    "    metadata['mean'][index] = df['f_'+str(index)].mean()\n",
    "    metadata['std'][index] = df['f_'+str(index)].std()\n",
    "metadata.head()"
   ]
  },
  {
   "cell_type": "code",
   "execution_count": 6,
   "id": "1d48f784",
   "metadata": {
    "execution": {
     "iopub.execute_input": "2022-03-05T10:00:05.541320Z",
     "iopub.status.busy": "2022-03-05T10:00:05.540371Z",
     "iopub.status.idle": "2022-03-05T10:00:05.554120Z",
     "shell.execute_reply": "2022-03-05T10:00:05.553561Z",
     "shell.execute_reply.started": "2022-03-05T09:53:05.223140Z"
    },
    "papermill": {
     "duration": 0.055473,
     "end_time": "2022-03-05T10:00:05.554271",
     "exception": false,
     "start_time": "2022-03-05T10:00:05.498798",
     "status": "completed"
    },
    "tags": []
   },
   "outputs": [],
   "source": [
    "metadata.to_parquet('./metadata', compression='gzip')"
   ]
  },
  {
   "cell_type": "markdown",
   "id": "7f2585fd",
   "metadata": {
    "papermill": {
     "duration": 0.03749,
     "end_time": "2022-03-05T10:00:05.629711",
     "exception": false,
     "start_time": "2022-03-05T10:00:05.592221",
     "status": "completed"
    },
    "tags": []
   },
   "source": [
    "## Load dataframe containing information about clustering of investments"
   ]
  },
  {
   "cell_type": "code",
   "execution_count": 7,
   "id": "b10d38a1",
   "metadata": {
    "execution": {
     "iopub.execute_input": "2022-03-05T10:00:05.709717Z",
     "iopub.status.busy": "2022-03-05T10:00:05.708038Z",
     "iopub.status.idle": "2022-03-05T10:00:05.732290Z",
     "shell.execute_reply": "2022-03-05T10:00:05.731787Z",
     "shell.execute_reply.started": "2022-03-05T09:53:05.246761Z"
    },
    "papermill": {
     "duration": 0.065167,
     "end_time": "2022-03-05T10:00:05.732432",
     "exception": false,
     "start_time": "2022-03-05T10:00:05.667265",
     "status": "completed"
    },
    "tags": []
   },
   "outputs": [
    {
     "data": {
      "text/html": [
       "<div>\n",
       "<style scoped>\n",
       "    .dataframe tbody tr th:only-of-type {\n",
       "        vertical-align: middle;\n",
       "    }\n",
       "\n",
       "    .dataframe tbody tr th {\n",
       "        vertical-align: top;\n",
       "    }\n",
       "\n",
       "    .dataframe thead th {\n",
       "        text-align: right;\n",
       "    }\n",
       "</style>\n",
       "<table border=\"1\" class=\"dataframe\">\n",
       "  <thead>\n",
       "    <tr style=\"text-align: right;\">\n",
       "      <th></th>\n",
       "      <th>investment_id</th>\n",
       "      <th>cluster_id</th>\n",
       "    </tr>\n",
       "  </thead>\n",
       "  <tbody>\n",
       "    <tr>\n",
       "      <th>0</th>\n",
       "      <td>0</td>\n",
       "      <td>1.0</td>\n",
       "    </tr>\n",
       "    <tr>\n",
       "      <th>1</th>\n",
       "      <td>1</td>\n",
       "      <td>2.0</td>\n",
       "    </tr>\n",
       "    <tr>\n",
       "      <th>2</th>\n",
       "      <td>2</td>\n",
       "      <td>1.0</td>\n",
       "    </tr>\n",
       "    <tr>\n",
       "      <th>3</th>\n",
       "      <td>3</td>\n",
       "      <td>2.0</td>\n",
       "    </tr>\n",
       "    <tr>\n",
       "      <th>4</th>\n",
       "      <td>4</td>\n",
       "      <td>1.0</td>\n",
       "    </tr>\n",
       "  </tbody>\n",
       "</table>\n",
       "</div>"
      ],
      "text/plain": [
       "   investment_id  cluster_id\n",
       "0              0         1.0\n",
       "1              1         2.0\n",
       "2              2         1.0\n",
       "3              3         2.0\n",
       "4              4         1.0"
      ]
     },
     "execution_count": 7,
     "metadata": {},
     "output_type": "execute_result"
    }
   ],
   "source": [
    "df_clusters = pd.read_parquet('../input/2-clusters/2_cluster.parquet')\n",
    "df_clusters.head()"
   ]
  },
  {
   "cell_type": "markdown",
   "id": "19ad8179",
   "metadata": {
    "papermill": {
     "duration": 0.038225,
     "end_time": "2022-03-05T10:00:05.809326",
     "exception": false,
     "start_time": "2022-03-05T10:00:05.771101",
     "status": "completed"
    },
    "tags": []
   },
   "source": [
    "## Determine the number of clusters and select a cluster to perform datapreperation on\n",
    "Clusters are numbered 1, 2, 3... which cluster 0 corresponding to any inverstment IDs whcih have not been placed in cluster"
   ]
  },
  {
   "cell_type": "code",
   "execution_count": 8,
   "id": "b2307dc3",
   "metadata": {
    "execution": {
     "iopub.execute_input": "2022-03-05T10:00:05.891686Z",
     "iopub.status.busy": "2022-03-05T10:00:05.890119Z",
     "iopub.status.idle": "2022-03-05T10:00:05.894628Z",
     "shell.execute_reply": "2022-03-05T10:00:05.895287Z",
     "shell.execute_reply.started": "2022-03-05T09:53:05.280985Z"
    },
    "papermill": {
     "duration": 0.047564,
     "end_time": "2022-03-05T10:00:05.895458",
     "exception": false,
     "start_time": "2022-03-05T10:00:05.847894",
     "status": "completed"
    },
    "tags": []
   },
   "outputs": [],
   "source": [
    "num_clusters = len(df_clusters['cluster_id'].unique())-1\n",
    "current_cluster = 2"
   ]
  },
  {
   "cell_type": "markdown",
   "id": "bf779ec8",
   "metadata": {
    "papermill": {
     "duration": 0.039999,
     "end_time": "2022-03-05T10:00:05.974025",
     "exception": false,
     "start_time": "2022-03-05T10:00:05.934026",
     "status": "completed"
    },
    "tags": []
   },
   "source": [
    "# Create a training, validation and test set for the chosen cluster\n",
    "\n",
    "## Create list of investment IDs to be placed in training, validation and test"
   ]
  },
  {
   "cell_type": "code",
   "execution_count": 9,
   "id": "e2c17373",
   "metadata": {
    "execution": {
     "iopub.execute_input": "2022-03-05T10:00:06.057998Z",
     "iopub.status.busy": "2022-03-05T10:00:06.057332Z",
     "iopub.status.idle": "2022-03-05T10:00:06.141317Z",
     "shell.execute_reply": "2022-03-05T10:00:06.140628Z",
     "shell.execute_reply.started": "2022-03-05T09:53:05.289068Z"
    },
    "papermill": {
     "duration": 0.127051,
     "end_time": "2022-03-05T10:00:06.141465",
     "exception": false,
     "start_time": "2022-03-05T10:00:06.014414",
     "status": "completed"
    },
    "tags": []
   },
   "outputs": [
    {
     "name": "stdout",
     "output_type": "stream",
     "text": [
      "number of investments = 1605\n",
      "sanity check: 1605\n",
      "0.6996884735202492 0.2 0.10031152647975078\n"
     ]
    }
   ],
   "source": [
    "investment_list = []\n",
    "for i in range(len(df_clusters)):\n",
    "    if df_clusters.cluster_id[i] == current_cluster:\n",
    "        investment_list.append(df_clusters.investment_id[i])\n",
    "\n",
    "print('number of investments =', len(investment_list))\n",
    "\n",
    "inv_train = investment_list[0:len(investment_list)*7//10]\n",
    "inv_valid = investment_list[len(investment_list)*7//10:len(investment_list)*9//10]\n",
    "inv_test  = investment_list[len(investment_list)*9//10:]\n",
    "\n",
    "print('sanity check:',len(inv_train)+len(inv_valid)+len(inv_test))\n",
    "print(len(inv_train)/len(investment_list),len(inv_valid)/len(investment_list),len(inv_test)/len(investment_list))"
   ]
  },
  {
   "cell_type": "markdown",
   "id": "9fd507fe",
   "metadata": {
    "papermill": {
     "duration": 0.040257,
     "end_time": "2022-03-05T10:00:06.223228",
     "exception": false,
     "start_time": "2022-03-05T10:00:06.182971",
     "status": "completed"
    },
    "tags": []
   },
   "source": [
    "## Create a training, validation and test dataframe"
   ]
  },
  {
   "cell_type": "code",
   "execution_count": 10,
   "id": "b25fba27",
   "metadata": {
    "execution": {
     "iopub.execute_input": "2022-03-05T10:00:06.306790Z",
     "iopub.status.busy": "2022-03-05T10:00:06.306159Z",
     "iopub.status.idle": "2022-03-05T10:00:06.364069Z",
     "shell.execute_reply": "2022-03-05T10:00:06.364556Z",
     "shell.execute_reply.started": "2022-03-05T09:53:05.378338Z"
    },
    "papermill": {
     "duration": 0.100878,
     "end_time": "2022-03-05T10:00:06.364768",
     "exception": false,
     "start_time": "2022-03-05T10:00:06.263890",
     "status": "completed"
    },
    "tags": []
   },
   "outputs": [],
   "source": [
    "df_train  = df[df['investment_id'].isin(list(inv_train))]\n",
    "\n",
    "df_test  = df[df['investment_id'].isin(list(inv_test))]\n",
    "\n",
    "df_valid  = df[df['investment_id'].isin(list(inv_valid))]\n"
   ]
  },
  {
   "cell_type": "code",
   "execution_count": 11,
   "id": "8f444f2e",
   "metadata": {
    "execution": {
     "iopub.execute_input": "2022-03-05T10:00:06.450408Z",
     "iopub.status.busy": "2022-03-05T10:00:06.449744Z",
     "iopub.status.idle": "2022-03-05T10:00:06.454235Z",
     "shell.execute_reply": "2022-03-05T10:00:06.454670Z",
     "shell.execute_reply.started": "2022-03-05T09:53:05.442249Z"
    },
    "papermill": {
     "duration": 0.050062,
     "end_time": "2022-03-05T10:00:06.454879",
     "exception": false,
     "start_time": "2022-03-05T10:00:06.404817",
     "status": "completed"
    },
    "tags": []
   },
   "outputs": [
    {
     "name": "stdout",
     "output_type": "stream",
     "text": [
      "number of investments = 1605\n",
      "sanity check: 1605\n"
     ]
    }
   ],
   "source": [
    "print('number of investments =', len(investment_list))\n",
    "print('sanity check:',len(df_train['investment_id'].unique())+len(df_valid['investment_id'].unique())+len(df_test['investment_id'].unique()))"
   ]
  },
  {
   "cell_type": "markdown",
   "id": "c0f9a6e4",
   "metadata": {
    "papermill": {
     "duration": 0.03926,
     "end_time": "2022-03-05T10:00:06.533606",
     "exception": false,
     "start_time": "2022-03-05T10:00:06.494346",
     "status": "completed"
    },
    "tags": []
   },
   "source": [
    "## Renormalises all features \n",
    "This ensures that all feature values are on the same scale."
   ]
  },
  {
   "cell_type": "code",
   "execution_count": 12,
   "id": "6c74f7f6",
   "metadata": {
    "execution": {
     "iopub.execute_input": "2022-03-05T10:00:06.615826Z",
     "iopub.status.busy": "2022-03-05T10:00:06.615197Z",
     "iopub.status.idle": "2022-03-05T10:00:08.352857Z",
     "shell.execute_reply": "2022-03-05T10:00:08.352168Z",
     "shell.execute_reply.started": "2022-03-05T09:53:05.454535Z"
    },
    "papermill": {
     "duration": 1.780075,
     "end_time": "2022-03-05T10:00:08.353000",
     "exception": false,
     "start_time": "2022-03-05T10:00:06.572925",
     "status": "completed"
    },
    "tags": []
   },
   "outputs": [
    {
     "name": "stderr",
     "output_type": "stream",
     "text": [
      "/opt/conda/lib/python3.7/site-packages/pandas/core/frame.py:3641: SettingWithCopyWarning: \n",
      "A value is trying to be set on a copy of a slice from a DataFrame.\n",
      "Try using .loc[row_indexer,col_indexer] = value instead\n",
      "\n",
      "See the caveats in the documentation: https://pandas.pydata.org/pandas-docs/stable/user_guide/indexing.html#returning-a-view-versus-a-copy\n",
      "  self[k1] = value[k2]\n"
     ]
    }
   ],
   "source": [
    "for index in range(300):\n",
    "    df_train[['f_'+str(index)]] = df_train[['f_'+str(index)]].subtract(metadata['mean'][index])\n",
    "    df_valid[['f_'+str(index)]] = df_valid[['f_'+str(index)]].subtract(metadata['mean'][index])\n",
    "    df_test[['f_'+str(index)]]  = df_test[['f_'+str(index)] ].subtract(metadata['mean'][index])\n",
    "    \n",
    "    df_train[['f_'+str(index)]] = df_train[['f_'+str(index)]]/ (metadata['std'][index] + 1e-12)\n",
    "    df_valid[['f_'+str(index)]] = df_valid[['f_'+str(index)]]/ (metadata['std'][index] + 1e-12)\n",
    "    df_test[['f_'+str(index)]]  = df_test[['f_'+str(index)]] / (metadata['std'][index] + 1e-12)\n",
    "    "
   ]
  },
  {
   "cell_type": "markdown",
   "id": "7176b8ca",
   "metadata": {
    "papermill": {
     "duration": 0.041134,
     "end_time": "2022-03-05T10:00:08.434041",
     "exception": false,
     "start_time": "2022-03-05T10:00:08.392907",
     "status": "completed"
    },
    "tags": []
   },
   "source": [
    "## Sort by investment followed by time ID"
   ]
  },
  {
   "cell_type": "code",
   "execution_count": 13,
   "id": "ebe35d62",
   "metadata": {
    "execution": {
     "iopub.execute_input": "2022-03-05T10:00:08.520030Z",
     "iopub.status.busy": "2022-03-05T10:00:08.519353Z",
     "iopub.status.idle": "2022-03-05T10:00:08.576421Z",
     "shell.execute_reply": "2022-03-05T10:00:08.575865Z",
     "shell.execute_reply.started": "2022-03-05T09:53:07.118851Z"
    },
    "papermill": {
     "duration": 0.102513,
     "end_time": "2022-03-05T10:00:08.576563",
     "exception": false,
     "start_time": "2022-03-05T10:00:08.474050",
     "status": "completed"
    },
    "tags": []
   },
   "outputs": [],
   "source": [
    "df_train = df_train.sort_values(by=['investment_id','time_id'])\n",
    "df_test = df_test.sort_values(by=['investment_id','time_id'])\n",
    "df_valid = df_valid.sort_values(by=['investment_id','time_id'])"
   ]
  },
  {
   "cell_type": "code",
   "execution_count": 14,
   "id": "c8763577",
   "metadata": {
    "execution": {
     "iopub.execute_input": "2022-03-05T10:00:08.661803Z",
     "iopub.status.busy": "2022-03-05T10:00:08.661119Z",
     "iopub.status.idle": "2022-03-05T10:00:08.682581Z",
     "shell.execute_reply": "2022-03-05T10:00:08.683196Z",
     "shell.execute_reply.started": "2022-03-05T09:53:07.183463Z"
    },
    "papermill": {
     "duration": 0.067018,
     "end_time": "2022-03-05T10:00:08.683365",
     "exception": false,
     "start_time": "2022-03-05T10:00:08.616347",
     "status": "completed"
    },
    "tags": []
   },
   "outputs": [
    {
     "data": {
      "text/html": [
       "<div>\n",
       "<style scoped>\n",
       "    .dataframe tbody tr th:only-of-type {\n",
       "        vertical-align: middle;\n",
       "    }\n",
       "\n",
       "    .dataframe tbody tr th {\n",
       "        vertical-align: top;\n",
       "    }\n",
       "\n",
       "    .dataframe thead th {\n",
       "        text-align: right;\n",
       "    }\n",
       "</style>\n",
       "<table border=\"1\" class=\"dataframe\">\n",
       "  <thead>\n",
       "    <tr style=\"text-align: right;\">\n",
       "      <th></th>\n",
       "      <th>row_id</th>\n",
       "      <th>time_id</th>\n",
       "      <th>investment_id</th>\n",
       "      <th>target</th>\n",
       "      <th>f_0</th>\n",
       "      <th>f_1</th>\n",
       "      <th>f_2</th>\n",
       "      <th>f_3</th>\n",
       "      <th>f_4</th>\n",
       "      <th>f_5</th>\n",
       "      <th>...</th>\n",
       "      <th>f_290</th>\n",
       "      <th>f_291</th>\n",
       "      <th>f_292</th>\n",
       "      <th>f_293</th>\n",
       "      <th>f_294</th>\n",
       "      <th>f_295</th>\n",
       "      <th>f_296</th>\n",
       "      <th>f_297</th>\n",
       "      <th>f_298</th>\n",
       "      <th>f_299</th>\n",
       "    </tr>\n",
       "  </thead>\n",
       "  <tbody>\n",
       "    <tr>\n",
       "      <th>3039039</th>\n",
       "      <td>1190_1</td>\n",
       "      <td>1190</td>\n",
       "      <td>1</td>\n",
       "      <td>-2.122237</td>\n",
       "      <td>0.117441</td>\n",
       "      <td>1.336057</td>\n",
       "      <td>0.200028</td>\n",
       "      <td>-0.200948</td>\n",
       "      <td>-0.145147</td>\n",
       "      <td>-0.002968</td>\n",
       "      <td>...</td>\n",
       "      <td>0.539658</td>\n",
       "      <td>0.170628</td>\n",
       "      <td>0.449091</td>\n",
       "      <td>0.635751</td>\n",
       "      <td>0.947428</td>\n",
       "      <td>-0.450420</td>\n",
       "      <td>-0.215100</td>\n",
       "      <td>-0.855532</td>\n",
       "      <td>-1.929326</td>\n",
       "      <td>-0.299557</td>\n",
       "    </tr>\n",
       "    <tr>\n",
       "      <th>3042372</th>\n",
       "      <td>1191_1</td>\n",
       "      <td>1191</td>\n",
       "      <td>1</td>\n",
       "      <td>0.092467</td>\n",
       "      <td>0.304520</td>\n",
       "      <td>0.609152</td>\n",
       "      <td>0.857534</td>\n",
       "      <td>-0.808235</td>\n",
       "      <td>-0.163414</td>\n",
       "      <td>0.862686</td>\n",
       "      <td>...</td>\n",
       "      <td>0.514438</td>\n",
       "      <td>0.545874</td>\n",
       "      <td>3.543956</td>\n",
       "      <td>0.826021</td>\n",
       "      <td>1.163362</td>\n",
       "      <td>-0.473317</td>\n",
       "      <td>-1.023344</td>\n",
       "      <td>-0.898323</td>\n",
       "      <td>-1.619835</td>\n",
       "      <td>-0.255787</td>\n",
       "    </tr>\n",
       "    <tr>\n",
       "      <th>3045737</th>\n",
       "      <td>1192_1</td>\n",
       "      <td>1192</td>\n",
       "      <td>1</td>\n",
       "      <td>0.151874</td>\n",
       "      <td>1.015338</td>\n",
       "      <td>-0.086064</td>\n",
       "      <td>0.772946</td>\n",
       "      <td>-1.024464</td>\n",
       "      <td>-0.170060</td>\n",
       "      <td>0.809992</td>\n",
       "      <td>...</td>\n",
       "      <td>0.429429</td>\n",
       "      <td>0.939174</td>\n",
       "      <td>1.896151</td>\n",
       "      <td>-0.419295</td>\n",
       "      <td>0.726514</td>\n",
       "      <td>-0.328875</td>\n",
       "      <td>-1.003616</td>\n",
       "      <td>0.789994</td>\n",
       "      <td>-0.555073</td>\n",
       "      <td>-0.252515</td>\n",
       "    </tr>\n",
       "    <tr>\n",
       "      <th>3049127</th>\n",
       "      <td>1193_1</td>\n",
       "      <td>1193</td>\n",
       "      <td>1</td>\n",
       "      <td>-0.030535</td>\n",
       "      <td>1.221100</td>\n",
       "      <td>-0.113554</td>\n",
       "      <td>0.801877</td>\n",
       "      <td>-0.771375</td>\n",
       "      <td>-0.154667</td>\n",
       "      <td>0.898420</td>\n",
       "      <td>...</td>\n",
       "      <td>0.204661</td>\n",
       "      <td>1.627842</td>\n",
       "      <td>-0.622924</td>\n",
       "      <td>0.001814</td>\n",
       "      <td>-1.291100</td>\n",
       "      <td>-0.698850</td>\n",
       "      <td>0.028365</td>\n",
       "      <td>0.799687</td>\n",
       "      <td>-0.774808</td>\n",
       "      <td>-0.419649</td>\n",
       "    </tr>\n",
       "    <tr>\n",
       "      <th>3052517</th>\n",
       "      <td>1194_1</td>\n",
       "      <td>1194</td>\n",
       "      <td>1</td>\n",
       "      <td>0.437932</td>\n",
       "      <td>1.564061</td>\n",
       "      <td>-0.219084</td>\n",
       "      <td>0.784532</td>\n",
       "      <td>-0.957565</td>\n",
       "      <td>-0.145679</td>\n",
       "      <td>0.346137</td>\n",
       "      <td>...</td>\n",
       "      <td>-0.030007</td>\n",
       "      <td>0.860971</td>\n",
       "      <td>-0.614518</td>\n",
       "      <td>-1.040945</td>\n",
       "      <td>1.300449</td>\n",
       "      <td>-0.531210</td>\n",
       "      <td>-0.321624</td>\n",
       "      <td>0.289998</td>\n",
       "      <td>-0.814158</td>\n",
       "      <td>-0.401237</td>\n",
       "    </tr>\n",
       "  </tbody>\n",
       "</table>\n",
       "<p>5 rows × 304 columns</p>\n",
       "</div>"
      ],
      "text/plain": [
       "         row_id  time_id  investment_id    target       f_0       f_1  \\\n",
       "3039039  1190_1     1190              1 -2.122237  0.117441  1.336057   \n",
       "3042372  1191_1     1191              1  0.092467  0.304520  0.609152   \n",
       "3045737  1192_1     1192              1  0.151874  1.015338 -0.086064   \n",
       "3049127  1193_1     1193              1 -0.030535  1.221100 -0.113554   \n",
       "3052517  1194_1     1194              1  0.437932  1.564061 -0.219084   \n",
       "\n",
       "              f_2       f_3       f_4       f_5  ...     f_290     f_291  \\\n",
       "3039039  0.200028 -0.200948 -0.145147 -0.002968  ...  0.539658  0.170628   \n",
       "3042372  0.857534 -0.808235 -0.163414  0.862686  ...  0.514438  0.545874   \n",
       "3045737  0.772946 -1.024464 -0.170060  0.809992  ...  0.429429  0.939174   \n",
       "3049127  0.801877 -0.771375 -0.154667  0.898420  ...  0.204661  1.627842   \n",
       "3052517  0.784532 -0.957565 -0.145679  0.346137  ... -0.030007  0.860971   \n",
       "\n",
       "            f_292     f_293     f_294     f_295     f_296     f_297     f_298  \\\n",
       "3039039  0.449091  0.635751  0.947428 -0.450420 -0.215100 -0.855532 -1.929326   \n",
       "3042372  3.543956  0.826021  1.163362 -0.473317 -1.023344 -0.898323 -1.619835   \n",
       "3045737  1.896151 -0.419295  0.726514 -0.328875 -1.003616  0.789994 -0.555073   \n",
       "3049127 -0.622924  0.001814 -1.291100 -0.698850  0.028365  0.799687 -0.774808   \n",
       "3052517 -0.614518 -1.040945  1.300449 -0.531210 -0.321624  0.289998 -0.814158   \n",
       "\n",
       "            f_299  \n",
       "3039039 -0.299557  \n",
       "3042372 -0.255787  \n",
       "3045737 -0.252515  \n",
       "3049127 -0.419649  \n",
       "3052517 -0.401237  \n",
       "\n",
       "[5 rows x 304 columns]"
      ]
     },
     "execution_count": 14,
     "metadata": {},
     "output_type": "execute_result"
    }
   ],
   "source": [
    "df_train.head()"
   ]
  },
  {
   "cell_type": "markdown",
   "id": "993f2aaa",
   "metadata": {
    "papermill": {
     "duration": 0.042364,
     "end_time": "2022-03-05T10:00:08.767193",
     "exception": false,
     "start_time": "2022-03-05T10:00:08.724829",
     "status": "completed"
    },
    "tags": []
   },
   "source": [
    "## Interpolate missing data\n",
    "\n",
    "Bellow the process is illustrated for the target values in the training dataset "
   ]
  },
  {
   "cell_type": "code",
   "execution_count": 15,
   "id": "3b528c79",
   "metadata": {
    "execution": {
     "iopub.execute_input": "2022-03-05T10:00:08.850553Z",
     "iopub.status.busy": "2022-03-05T10:00:08.849949Z",
     "iopub.status.idle": "2022-03-05T10:00:10.339017Z",
     "shell.execute_reply": "2022-03-05T10:00:10.338424Z",
     "shell.execute_reply.started": "2022-03-05T09:53:44.053138Z"
    },
    "papermill": {
     "duration": 1.531918,
     "end_time": "2022-03-05T10:00:10.339184",
     "exception": false,
     "start_time": "2022-03-05T10:00:08.807266",
     "status": "completed"
    },
    "tags": []
   },
   "outputs": [
    {
     "data": {
      "image/png": "[encoded data removed]",
      "text/plain": [
       "<Figure size 1440x576 with 2 Axes>"
      ]
     },
     "metadata": {
      "needs_background": "light"
     },
     "output_type": "display_data"
    }
   ],
   "source": [
    "df_new = df_train[['investment_id','time_id','target']].pivot(index='time_id', columns ='investment_id', values='target')\n",
    "\n",
    "plt.figure(figsize=(20,8))\n",
    "\n",
    "ax = sns.heatmap(1-np.isnan(df_new.to_numpy()), cmap=\"Greys\")\n",
    "\n",
    "plt.title('Missing data in white')\n",
    "plt.xlabel('investment')\n",
    "plt.ylabel('time')\n",
    "\n",
    "plt.show()"
   ]
  },
  {
   "cell_type": "markdown",
   "id": "ec72a36a",
   "metadata": {
    "papermill": {
     "duration": 0.041695,
     "end_time": "2022-03-05T10:00:10.423151",
     "exception": false,
     "start_time": "2022-03-05T10:00:10.381456",
     "status": "completed"
    },
    "tags": []
   },
   "source": [
    "Fill forwards then backwards"
   ]
  },
  {
   "cell_type": "code",
   "execution_count": 16,
   "id": "525387e4",
   "metadata": {
    "execution": {
     "iopub.execute_input": "2022-03-05T10:00:10.512987Z",
     "iopub.status.busy": "2022-03-05T10:00:10.511925Z",
     "iopub.status.idle": "2022-03-05T10:00:10.527122Z",
     "shell.execute_reply": "2022-03-05T10:00:10.527612Z",
     "shell.execute_reply.started": "2022-03-05T09:54:31.120551Z"
    },
    "papermill": {
     "duration": 0.061165,
     "end_time": "2022-03-05T10:00:10.527823",
     "exception": false,
     "start_time": "2022-03-05T10:00:10.466658",
     "status": "completed"
    },
    "tags": []
   },
   "outputs": [],
   "source": [
    "\n",
    "df_new = df_new.fillna(method=\"ffill\")\n",
    "df_new = df_new.fillna(method=\"bfill\")\n",
    "\n",
    "df_new.head()\n",
    "\n",
    "df_train_filled = df_new.melt(var_name='investment_id', value_name='target', ignore_index=False)\n"
   ]
  },
  {
   "cell_type": "code",
   "execution_count": 17,
   "id": "f07fc56d",
   "metadata": {
    "execution": {
     "iopub.execute_input": "2022-03-05T10:00:10.618214Z",
     "iopub.status.busy": "2022-03-05T10:00:10.617505Z",
     "iopub.status.idle": "2022-03-05T10:00:10.631632Z",
     "shell.execute_reply": "2022-03-05T10:00:10.631025Z",
     "shell.execute_reply.started": "2022-03-05T09:54:31.595768Z"
    },
    "papermill": {
     "duration": 0.05915,
     "end_time": "2022-03-05T10:00:10.631809",
     "exception": false,
     "start_time": "2022-03-05T10:00:10.572659",
     "status": "completed"
    },
    "tags": []
   },
   "outputs": [
    {
     "name": "stdout",
     "output_type": "stream",
     "text": [
      "33690 33690\n"
     ]
    },
    {
     "data": {
      "text/html": [
       "<div>\n",
       "<style scoped>\n",
       "    .dataframe tbody tr th:only-of-type {\n",
       "        vertical-align: middle;\n",
       "    }\n",
       "\n",
       "    .dataframe tbody tr th {\n",
       "        vertical-align: top;\n",
       "    }\n",
       "\n",
       "    .dataframe thead th {\n",
       "        text-align: right;\n",
       "    }\n",
       "</style>\n",
       "<table border=\"1\" class=\"dataframe\">\n",
       "  <thead>\n",
       "    <tr style=\"text-align: right;\">\n",
       "      <th></th>\n",
       "      <th>time_id</th>\n",
       "      <th>investment_id</th>\n",
       "      <th>target</th>\n",
       "    </tr>\n",
       "  </thead>\n",
       "  <tbody>\n",
       "    <tr>\n",
       "      <th>0</th>\n",
       "      <td>1190</td>\n",
       "      <td>1</td>\n",
       "      <td>-2.122237</td>\n",
       "    </tr>\n",
       "    <tr>\n",
       "      <th>1</th>\n",
       "      <td>1191</td>\n",
       "      <td>1</td>\n",
       "      <td>0.092467</td>\n",
       "    </tr>\n",
       "    <tr>\n",
       "      <th>2</th>\n",
       "      <td>1192</td>\n",
       "      <td>1</td>\n",
       "      <td>0.151874</td>\n",
       "    </tr>\n",
       "    <tr>\n",
       "      <th>3</th>\n",
       "      <td>1193</td>\n",
       "      <td>1</td>\n",
       "      <td>-0.030535</td>\n",
       "    </tr>\n",
       "    <tr>\n",
       "      <th>4</th>\n",
       "      <td>1194</td>\n",
       "      <td>1</td>\n",
       "      <td>0.437932</td>\n",
       "    </tr>\n",
       "  </tbody>\n",
       "</table>\n",
       "</div>"
      ],
      "text/plain": [
       "   time_id  investment_id    target\n",
       "0     1190              1 -2.122237\n",
       "1     1191              1  0.092467\n",
       "2     1192              1  0.151874\n",
       "3     1193              1 -0.030535\n",
       "4     1194              1  0.437932"
      ]
     },
     "execution_count": 17,
     "metadata": {},
     "output_type": "execute_result"
    }
   ],
   "source": [
    "print(len(df_train_filled),len(df_train['investment_id'].unique())*len(df_train['time_id'].unique()))\n",
    "df_train_filled.reset_index(inplace=True)\n",
    "df_train_filled.head()"
   ]
  },
  {
   "cell_type": "code",
   "execution_count": 18,
   "id": "cc718281",
   "metadata": {
    "execution": {
     "iopub.execute_input": "2022-03-05T10:00:10.722121Z",
     "iopub.status.busy": "2022-03-05T10:00:10.721455Z",
     "iopub.status.idle": "2022-03-05T10:00:12.166166Z",
     "shell.execute_reply": "2022-03-05T10:00:12.166707Z",
     "shell.execute_reply.started": "2022-03-05T09:54:37.549804Z"
    },
    "papermill": {
     "duration": 1.491158,
     "end_time": "2022-03-05T10:00:12.166894",
     "exception": false,
     "start_time": "2022-03-05T10:00:10.675736",
     "status": "completed"
    },
    "tags": []
   },
   "outputs": [
    {
     "data": {
      "image/png": "[encoded data removed]",
      "text/plain": [
       "<Figure size 1440x576 with 2 Axes>"
      ]
     },
     "metadata": {
      "needs_background": "light"
     },
     "output_type": "display_data"
    }
   ],
   "source": [
    "plt.figure(figsize=(20,8))\n",
    "\n",
    "ax = sns.heatmap(1-np.isnan(df_new.to_numpy()), cmap=\"Greys\",vmax=1,vmin=0)\n",
    "\n",
    "plt.title('Missing data in white')\n",
    "plt.xlabel('investment')\n",
    "plt.ylabel('time')\n",
    "\n",
    "plt.show()"
   ]
  },
  {
   "cell_type": "markdown",
   "id": "6b52d685",
   "metadata": {
    "papermill": {
     "duration": 0.045253,
     "end_time": "2022-03-05T10:00:12.257658",
     "exception": false,
     "start_time": "2022-03-05T10:00:12.212405",
     "status": "completed"
    },
    "tags": []
   },
   "source": [
    "## Repeat process for all features in the training dataset"
   ]
  },
  {
   "cell_type": "code",
   "execution_count": 19,
   "id": "ec52dd53",
   "metadata": {
    "execution": {
     "iopub.execute_input": "2022-03-05T10:00:12.351065Z",
     "iopub.status.busy": "2022-03-05T10:00:12.350375Z",
     "iopub.status.idle": "2022-03-05T10:00:16.815847Z",
     "shell.execute_reply": "2022-03-05T10:00:16.814766Z",
     "shell.execute_reply.started": "2022-03-05T09:56:43.912722Z"
    },
    "papermill": {
     "duration": 4.512684,
     "end_time": "2022-03-05T10:00:16.816014",
     "exception": false,
     "start_time": "2022-03-05T10:00:12.303330",
     "status": "completed"
    },
    "tags": []
   },
   "outputs": [
    {
     "name": "stderr",
     "output_type": "stream",
     "text": [
      "/opt/conda/lib/python3.7/site-packages/ipykernel_launcher.py:6: PerformanceWarning: DataFrame is highly fragmented.  This is usually the result of calling `frame.insert` many times, which has poor performance.  Consider joining all columns at once using pd.concat(axis=1) instead.  To get a de-fragmented frame, use `newframe = frame.copy()`\n",
      "  \n"
     ]
    }
   ],
   "source": [
    "for index in range(300):\n",
    "    df_new = df_train[['investment_id','time_id','f_'+str(index)]].pivot(index='time_id', columns ='investment_id', values='f_'+str(index))\n",
    "    df_new = df_new.fillna(method=\"ffill\")\n",
    "    df_new = df_new.fillna(method=\"bfill\")\n",
    "    df_new = df_new.melt(var_name='investment_id', value_name='f_'+str(index), ignore_index=False)\n",
    "    df_train_filled['f_'+str(index+1)] = df_new['f_'+str(index)].to_numpy()\n",
    "    \n"
   ]
  },
  {
   "cell_type": "code",
   "execution_count": 20,
   "id": "99908ebb",
   "metadata": {
    "execution": {
     "iopub.execute_input": "2022-03-05T10:00:16.920387Z",
     "iopub.status.busy": "2022-03-05T10:00:16.919267Z",
     "iopub.status.idle": "2022-03-05T10:00:16.955133Z",
     "shell.execute_reply": "2022-03-05T10:00:16.955857Z",
     "shell.execute_reply.started": "2022-03-05T09:56:48.225012Z"
    },
    "papermill": {
     "duration": 0.088164,
     "end_time": "2022-03-05T10:00:16.956052",
     "exception": false,
     "start_time": "2022-03-05T10:00:16.867888",
     "status": "completed"
    },
    "tags": []
   },
   "outputs": [
    {
     "name": "stdout",
     "output_type": "stream",
     "text": [
      "added values to train = 250\n"
     ]
    },
    {
     "data": {
      "text/html": [
       "<div>\n",
       "<style scoped>\n",
       "    .dataframe tbody tr th:only-of-type {\n",
       "        vertical-align: middle;\n",
       "    }\n",
       "\n",
       "    .dataframe tbody tr th {\n",
       "        vertical-align: top;\n",
       "    }\n",
       "\n",
       "    .dataframe thead th {\n",
       "        text-align: right;\n",
       "    }\n",
       "</style>\n",
       "<table border=\"1\" class=\"dataframe\">\n",
       "  <thead>\n",
       "    <tr style=\"text-align: right;\">\n",
       "      <th></th>\n",
       "      <th>time_id</th>\n",
       "      <th>investment_id</th>\n",
       "      <th>target</th>\n",
       "      <th>f_1</th>\n",
       "      <th>f_2</th>\n",
       "      <th>f_3</th>\n",
       "      <th>f_4</th>\n",
       "      <th>f_5</th>\n",
       "      <th>f_6</th>\n",
       "      <th>f_7</th>\n",
       "      <th>...</th>\n",
       "      <th>f_291</th>\n",
       "      <th>f_292</th>\n",
       "      <th>f_293</th>\n",
       "      <th>f_294</th>\n",
       "      <th>f_295</th>\n",
       "      <th>f_296</th>\n",
       "      <th>f_297</th>\n",
       "      <th>f_298</th>\n",
       "      <th>f_299</th>\n",
       "      <th>f_300</th>\n",
       "    </tr>\n",
       "  </thead>\n",
       "  <tbody>\n",
       "    <tr>\n",
       "      <th>0</th>\n",
       "      <td>1190</td>\n",
       "      <td>1</td>\n",
       "      <td>-2.122237</td>\n",
       "      <td>0.117441</td>\n",
       "      <td>1.336057</td>\n",
       "      <td>0.200028</td>\n",
       "      <td>-0.200948</td>\n",
       "      <td>-0.145147</td>\n",
       "      <td>-0.002968</td>\n",
       "      <td>-0.565976</td>\n",
       "      <td>...</td>\n",
       "      <td>0.539658</td>\n",
       "      <td>0.170628</td>\n",
       "      <td>0.449091</td>\n",
       "      <td>0.635751</td>\n",
       "      <td>0.947428</td>\n",
       "      <td>-0.450420</td>\n",
       "      <td>-0.215100</td>\n",
       "      <td>-0.855532</td>\n",
       "      <td>-1.929326</td>\n",
       "      <td>-0.299557</td>\n",
       "    </tr>\n",
       "    <tr>\n",
       "      <th>1</th>\n",
       "      <td>1191</td>\n",
       "      <td>1</td>\n",
       "      <td>0.092467</td>\n",
       "      <td>0.304520</td>\n",
       "      <td>0.609152</td>\n",
       "      <td>0.857534</td>\n",
       "      <td>-0.808235</td>\n",
       "      <td>-0.163414</td>\n",
       "      <td>0.862686</td>\n",
       "      <td>-0.825024</td>\n",
       "      <td>...</td>\n",
       "      <td>0.514438</td>\n",
       "      <td>0.545874</td>\n",
       "      <td>3.543956</td>\n",
       "      <td>0.826021</td>\n",
       "      <td>1.163362</td>\n",
       "      <td>-0.473317</td>\n",
       "      <td>-1.023344</td>\n",
       "      <td>-0.898323</td>\n",
       "      <td>-1.619835</td>\n",
       "      <td>-0.255787</td>\n",
       "    </tr>\n",
       "    <tr>\n",
       "      <th>2</th>\n",
       "      <td>1192</td>\n",
       "      <td>1</td>\n",
       "      <td>0.151874</td>\n",
       "      <td>1.015338</td>\n",
       "      <td>-0.086064</td>\n",
       "      <td>0.772946</td>\n",
       "      <td>-1.024464</td>\n",
       "      <td>-0.170060</td>\n",
       "      <td>0.809992</td>\n",
       "      <td>-1.356128</td>\n",
       "      <td>...</td>\n",
       "      <td>0.429429</td>\n",
       "      <td>0.939174</td>\n",
       "      <td>1.896151</td>\n",
       "      <td>-0.419295</td>\n",
       "      <td>0.726514</td>\n",
       "      <td>-0.328875</td>\n",
       "      <td>-1.003616</td>\n",
       "      <td>0.789994</td>\n",
       "      <td>-0.555073</td>\n",
       "      <td>-0.252515</td>\n",
       "    </tr>\n",
       "    <tr>\n",
       "      <th>3</th>\n",
       "      <td>1193</td>\n",
       "      <td>1</td>\n",
       "      <td>-0.030535</td>\n",
       "      <td>1.221100</td>\n",
       "      <td>-0.113554</td>\n",
       "      <td>0.801877</td>\n",
       "      <td>-0.771375</td>\n",
       "      <td>-0.154667</td>\n",
       "      <td>0.898420</td>\n",
       "      <td>-1.635045</td>\n",
       "      <td>...</td>\n",
       "      <td>0.204661</td>\n",
       "      <td>1.627842</td>\n",
       "      <td>-0.622924</td>\n",
       "      <td>0.001814</td>\n",
       "      <td>-1.291100</td>\n",
       "      <td>-0.698850</td>\n",
       "      <td>0.028365</td>\n",
       "      <td>0.799687</td>\n",
       "      <td>-0.774808</td>\n",
       "      <td>-0.419649</td>\n",
       "    </tr>\n",
       "    <tr>\n",
       "      <th>4</th>\n",
       "      <td>1194</td>\n",
       "      <td>1</td>\n",
       "      <td>0.437932</td>\n",
       "      <td>1.564061</td>\n",
       "      <td>-0.219084</td>\n",
       "      <td>0.784532</td>\n",
       "      <td>-0.957565</td>\n",
       "      <td>-0.145679</td>\n",
       "      <td>0.346137</td>\n",
       "      <td>-1.619898</td>\n",
       "      <td>...</td>\n",
       "      <td>-0.030007</td>\n",
       "      <td>0.860971</td>\n",
       "      <td>-0.614518</td>\n",
       "      <td>-1.040945</td>\n",
       "      <td>1.300449</td>\n",
       "      <td>-0.531210</td>\n",
       "      <td>-0.321624</td>\n",
       "      <td>0.289998</td>\n",
       "      <td>-0.814158</td>\n",
       "      <td>-0.401237</td>\n",
       "    </tr>\n",
       "  </tbody>\n",
       "</table>\n",
       "<p>5 rows × 303 columns</p>\n",
       "</div>"
      ],
      "text/plain": [
       "   time_id  investment_id    target       f_1       f_2       f_3       f_4  \\\n",
       "0     1190              1 -2.122237  0.117441  1.336057  0.200028 -0.200948   \n",
       "1     1191              1  0.092467  0.304520  0.609152  0.857534 -0.808235   \n",
       "2     1192              1  0.151874  1.015338 -0.086064  0.772946 -1.024464   \n",
       "3     1193              1 -0.030535  1.221100 -0.113554  0.801877 -0.771375   \n",
       "4     1194              1  0.437932  1.564061 -0.219084  0.784532 -0.957565   \n",
       "\n",
       "        f_5       f_6       f_7  ...     f_291     f_292     f_293     f_294  \\\n",
       "0 -0.145147 -0.002968 -0.565976  ...  0.539658  0.170628  0.449091  0.635751   \n",
       "1 -0.163414  0.862686 -0.825024  ...  0.514438  0.545874  3.543956  0.826021   \n",
       "2 -0.170060  0.809992 -1.356128  ...  0.429429  0.939174  1.896151 -0.419295   \n",
       "3 -0.154667  0.898420 -1.635045  ...  0.204661  1.627842 -0.622924  0.001814   \n",
       "4 -0.145679  0.346137 -1.619898  ... -0.030007  0.860971 -0.614518 -1.040945   \n",
       "\n",
       "      f_295     f_296     f_297     f_298     f_299     f_300  \n",
       "0  0.947428 -0.450420 -0.215100 -0.855532 -1.929326 -0.299557  \n",
       "1  1.163362 -0.473317 -1.023344 -0.898323 -1.619835 -0.255787  \n",
       "2  0.726514 -0.328875 -1.003616  0.789994 -0.555073 -0.252515  \n",
       "3 -1.291100 -0.698850  0.028365  0.799687 -0.774808 -0.419649  \n",
       "4  1.300449 -0.531210 -0.321624  0.289998 -0.814158 -0.401237  \n",
       "\n",
       "[5 rows x 303 columns]"
      ]
     },
     "execution_count": 20,
     "metadata": {},
     "output_type": "execute_result"
    }
   ],
   "source": [
    "print('added values to train =',len(df_train_filled)-len(df_train))\n",
    "df_train_filled.head()"
   ]
  },
  {
   "cell_type": "markdown",
   "id": "f09bb26a",
   "metadata": {
    "papermill": {
     "duration": 0.050488,
     "end_time": "2022-03-05T10:00:17.057984",
     "exception": false,
     "start_time": "2022-03-05T10:00:17.007496",
     "status": "completed"
    },
    "tags": []
   },
   "source": [
    "## Repeat process for validation and test datasets"
   ]
  },
  {
   "cell_type": "code",
   "execution_count": 21,
   "id": "4fa6ff36",
   "metadata": {
    "execution": {
     "iopub.execute_input": "2022-03-05T10:00:17.176079Z",
     "iopub.status.busy": "2022-03-05T10:00:17.174980Z",
     "iopub.status.idle": "2022-03-05T10:00:19.492857Z",
     "shell.execute_reply": "2022-03-05T10:00:19.492274Z",
     "shell.execute_reply.started": "2022-03-05T09:56:48.263440Z"
    },
    "papermill": {
     "duration": 2.383144,
     "end_time": "2022-03-05T10:00:19.493024",
     "exception": false,
     "start_time": "2022-03-05T10:00:17.109880",
     "status": "completed"
    },
    "tags": []
   },
   "outputs": [
    {
     "name": "stderr",
     "output_type": "stream",
     "text": [
      "/opt/conda/lib/python3.7/site-packages/ipykernel_launcher.py:11: PerformanceWarning: DataFrame is highly fragmented.  This is usually the result of calling `frame.insert` many times, which has poor performance.  Consider joining all columns at once using pd.concat(axis=1) instead.  To get a de-fragmented frame, use `newframe = frame.copy()`\n",
      "  # This is added back by InteractiveShellApp.init_path()\n"
     ]
    },
    {
     "name": "stdout",
     "output_type": "stream",
     "text": [
      "added values to valid = 104\n"
     ]
    },
    {
     "name": "stderr",
     "output_type": "stream",
     "text": [
      "/opt/conda/lib/python3.7/site-packages/ipykernel_launcher.py:13: PerformanceWarning: DataFrame is highly fragmented.  This is usually the result of calling `frame.insert` many times, which has poor performance.  Consider joining all columns at once using pd.concat(axis=1) instead.  To get a de-fragmented frame, use `newframe = frame.copy()`\n",
      "  del sys.path[0]\n"
     ]
    },
    {
     "data": {
      "text/html": [
       "<div>\n",
       "<style scoped>\n",
       "    .dataframe tbody tr th:only-of-type {\n",
       "        vertical-align: middle;\n",
       "    }\n",
       "\n",
       "    .dataframe tbody tr th {\n",
       "        vertical-align: top;\n",
       "    }\n",
       "\n",
       "    .dataframe thead th {\n",
       "        text-align: right;\n",
       "    }\n",
       "</style>\n",
       "<table border=\"1\" class=\"dataframe\">\n",
       "  <thead>\n",
       "    <tr style=\"text-align: right;\">\n",
       "      <th></th>\n",
       "      <th>time_id</th>\n",
       "      <th>investment_id</th>\n",
       "      <th>target</th>\n",
       "      <th>f_1</th>\n",
       "      <th>f_2</th>\n",
       "      <th>f_3</th>\n",
       "      <th>f_4</th>\n",
       "      <th>f_5</th>\n",
       "      <th>f_6</th>\n",
       "      <th>f_7</th>\n",
       "      <th>...</th>\n",
       "      <th>f_291</th>\n",
       "      <th>f_292</th>\n",
       "      <th>f_293</th>\n",
       "      <th>f_294</th>\n",
       "      <th>f_295</th>\n",
       "      <th>f_296</th>\n",
       "      <th>f_297</th>\n",
       "      <th>f_298</th>\n",
       "      <th>f_299</th>\n",
       "      <th>f_300</th>\n",
       "    </tr>\n",
       "  </thead>\n",
       "  <tbody>\n",
       "    <tr>\n",
       "      <th>0</th>\n",
       "      <td>1190</td>\n",
       "      <td>2609</td>\n",
       "      <td>-0.061201</td>\n",
       "      <td>-0.250191</td>\n",
       "      <td>0.438600</td>\n",
       "      <td>2.149338</td>\n",
       "      <td>-0.617520</td>\n",
       "      <td>-0.255728</td>\n",
       "      <td>0.989015</td>\n",
       "      <td>0.115423</td>\n",
       "      <td>...</td>\n",
       "      <td>0.033643</td>\n",
       "      <td>1.668848</td>\n",
       "      <td>-0.286765</td>\n",
       "      <td>0.768971</td>\n",
       "      <td>-1.184680</td>\n",
       "      <td>-0.441723</td>\n",
       "      <td>-0.012717</td>\n",
       "      <td>0.724201</td>\n",
       "      <td>-1.733112</td>\n",
       "      <td>-0.704176</td>\n",
       "    </tr>\n",
       "    <tr>\n",
       "      <th>1</th>\n",
       "      <td>1191</td>\n",
       "      <td>2609</td>\n",
       "      <td>-0.233961</td>\n",
       "      <td>0.128837</td>\n",
       "      <td>0.551035</td>\n",
       "      <td>1.811031</td>\n",
       "      <td>-0.519209</td>\n",
       "      <td>-0.244495</td>\n",
       "      <td>0.593240</td>\n",
       "      <td>0.190066</td>\n",
       "      <td>...</td>\n",
       "      <td>1.186348</td>\n",
       "      <td>-0.499792</td>\n",
       "      <td>-0.411322</td>\n",
       "      <td>0.193252</td>\n",
       "      <td>0.750338</td>\n",
       "      <td>-0.452898</td>\n",
       "      <td>0.199212</td>\n",
       "      <td>1.359347</td>\n",
       "      <td>-1.651579</td>\n",
       "      <td>-0.694205</td>\n",
       "    </tr>\n",
       "    <tr>\n",
       "      <th>2</th>\n",
       "      <td>1192</td>\n",
       "      <td>2609</td>\n",
       "      <td>-0.126998</td>\n",
       "      <td>-0.444131</td>\n",
       "      <td>0.719668</td>\n",
       "      <td>1.446179</td>\n",
       "      <td>-0.625508</td>\n",
       "      <td>-0.261238</td>\n",
       "      <td>0.510019</td>\n",
       "      <td>-0.164592</td>\n",
       "      <td>...</td>\n",
       "      <td>0.990424</td>\n",
       "      <td>-0.877157</td>\n",
       "      <td>-0.412786</td>\n",
       "      <td>0.063723</td>\n",
       "      <td>-0.014877</td>\n",
       "      <td>-0.528433</td>\n",
       "      <td>0.339858</td>\n",
       "      <td>0.279232</td>\n",
       "      <td>-2.404763</td>\n",
       "      <td>-0.699318</td>\n",
       "    </tr>\n",
       "    <tr>\n",
       "      <th>3</th>\n",
       "      <td>1193</td>\n",
       "      <td>2609</td>\n",
       "      <td>0.293016</td>\n",
       "      <td>-0.496340</td>\n",
       "      <td>0.537548</td>\n",
       "      <td>1.511310</td>\n",
       "      <td>-0.818842</td>\n",
       "      <td>-0.262109</td>\n",
       "      <td>0.524515</td>\n",
       "      <td>-0.896779</td>\n",
       "      <td>...</td>\n",
       "      <td>1.071020</td>\n",
       "      <td>0.090647</td>\n",
       "      <td>-0.210568</td>\n",
       "      <td>0.355880</td>\n",
       "      <td>-0.044630</td>\n",
       "      <td>-0.839359</td>\n",
       "      <td>1.382041</td>\n",
       "      <td>-0.424744</td>\n",
       "      <td>-2.367198</td>\n",
       "      <td>-0.667029</td>\n",
       "    </tr>\n",
       "    <tr>\n",
       "      <th>4</th>\n",
       "      <td>1194</td>\n",
       "      <td>2609</td>\n",
       "      <td>0.091412</td>\n",
       "      <td>-0.041837</td>\n",
       "      <td>0.198583</td>\n",
       "      <td>1.987522</td>\n",
       "      <td>-0.817936</td>\n",
       "      <td>-0.246873</td>\n",
       "      <td>0.067983</td>\n",
       "      <td>-0.980695</td>\n",
       "      <td>...</td>\n",
       "      <td>0.217475</td>\n",
       "      <td>-0.133492</td>\n",
       "      <td>-0.371584</td>\n",
       "      <td>0.209467</td>\n",
       "      <td>-0.504454</td>\n",
       "      <td>-0.560683</td>\n",
       "      <td>-0.730263</td>\n",
       "      <td>-0.083911</td>\n",
       "      <td>-2.005372</td>\n",
       "      <td>-0.577171</td>\n",
       "    </tr>\n",
       "  </tbody>\n",
       "</table>\n",
       "<p>5 rows × 303 columns</p>\n",
       "</div>"
      ],
      "text/plain": [
       "   time_id  investment_id    target       f_1       f_2       f_3       f_4  \\\n",
       "0     1190           2609 -0.061201 -0.250191  0.438600  2.149338 -0.617520   \n",
       "1     1191           2609 -0.233961  0.128837  0.551035  1.811031 -0.519209   \n",
       "2     1192           2609 -0.126998 -0.444131  0.719668  1.446179 -0.625508   \n",
       "3     1193           2609  0.293016 -0.496340  0.537548  1.511310 -0.818842   \n",
       "4     1194           2609  0.091412 -0.041837  0.198583  1.987522 -0.817936   \n",
       "\n",
       "        f_5       f_6       f_7  ...     f_291     f_292     f_293     f_294  \\\n",
       "0 -0.255728  0.989015  0.115423  ...  0.033643  1.668848 -0.286765  0.768971   \n",
       "1 -0.244495  0.593240  0.190066  ...  1.186348 -0.499792 -0.411322  0.193252   \n",
       "2 -0.261238  0.510019 -0.164592  ...  0.990424 -0.877157 -0.412786  0.063723   \n",
       "3 -0.262109  0.524515 -0.896779  ...  1.071020  0.090647 -0.210568  0.355880   \n",
       "4 -0.246873  0.067983 -0.980695  ...  0.217475 -0.133492 -0.371584  0.209467   \n",
       "\n",
       "      f_295     f_296     f_297     f_298     f_299     f_300  \n",
       "0 -1.184680 -0.441723 -0.012717  0.724201 -1.733112 -0.704176  \n",
       "1  0.750338 -0.452898  0.199212  1.359347 -1.651579 -0.694205  \n",
       "2 -0.014877 -0.528433  0.339858  0.279232 -2.404763 -0.699318  \n",
       "3 -0.044630 -0.839359  1.382041 -0.424744 -2.367198 -0.667029  \n",
       "4 -0.504454 -0.560683 -0.730263 -0.083911 -2.005372 -0.577171  \n",
       "\n",
       "[5 rows x 303 columns]"
      ]
     },
     "execution_count": 21,
     "metadata": {},
     "output_type": "execute_result"
    }
   ],
   "source": [
    "df_new = df_valid[['investment_id','time_id','target']].pivot(index='time_id', columns ='investment_id', values='target')\n",
    "df_new = df_new.fillna(method=\"ffill\")\n",
    "df_new = df_new.fillna(method=\"bfill\")\n",
    "df_valid_filled = df_new.melt(var_name='investment_id', value_name='target', ignore_index=False)\n",
    "\n",
    "for index in range(300):\n",
    "    df_new = df_valid[['investment_id','time_id','f_'+str(index)]].pivot(index='time_id', columns ='investment_id', values='f_'+str(index))\n",
    "    df_new = df_new.fillna(method=\"ffill\")\n",
    "    df_new = df_new.fillna(method=\"bfill\")\n",
    "    df_new = df_new.melt(var_name='investment_id', value_name='f_'+str(index), ignore_index=False)\n",
    "    df_valid_filled['f_'+str(index+1)] = df_new['f_'+str(index)].to_numpy()\n",
    "\n",
    "df_valid_filled.reset_index(inplace=True)\n",
    "print('added values to valid =',len(df_valid_filled)-len(df_valid))\n",
    "df_valid_filled.head()\n"
   ]
  },
  {
   "cell_type": "code",
   "execution_count": 22,
   "id": "7a87efbe",
   "metadata": {
    "execution": {
     "iopub.execute_input": "2022-03-05T10:00:19.602803Z",
     "iopub.status.busy": "2022-03-05T10:00:19.602070Z",
     "iopub.status.idle": "2022-03-05T10:00:21.618906Z",
     "shell.execute_reply": "2022-03-05T10:00:21.619455Z",
     "shell.execute_reply.started": "2022-03-05T09:56:50.486217Z"
    },
    "papermill": {
     "duration": 2.078702,
     "end_time": "2022-03-05T10:00:21.619634",
     "exception": false,
     "start_time": "2022-03-05T10:00:19.540932",
     "status": "completed"
    },
    "tags": []
   },
   "outputs": [
    {
     "name": "stderr",
     "output_type": "stream",
     "text": [
      "/opt/conda/lib/python3.7/site-packages/ipykernel_launcher.py:11: PerformanceWarning: DataFrame is highly fragmented.  This is usually the result of calling `frame.insert` many times, which has poor performance.  Consider joining all columns at once using pd.concat(axis=1) instead.  To get a de-fragmented frame, use `newframe = frame.copy()`\n",
      "  # This is added back by InteractiveShellApp.init_path()\n"
     ]
    },
    {
     "name": "stdout",
     "output_type": "stream",
     "text": [
      "added values test = 41\n"
     ]
    },
    {
     "name": "stderr",
     "output_type": "stream",
     "text": [
      "/opt/conda/lib/python3.7/site-packages/ipykernel_launcher.py:13: PerformanceWarning: DataFrame is highly fragmented.  This is usually the result of calling `frame.insert` many times, which has poor performance.  Consider joining all columns at once using pd.concat(axis=1) instead.  To get a de-fragmented frame, use `newframe = frame.copy()`\n",
      "  del sys.path[0]\n"
     ]
    },
    {
     "data": {
      "text/html": [
       "<div>\n",
       "<style scoped>\n",
       "    .dataframe tbody tr th:only-of-type {\n",
       "        vertical-align: middle;\n",
       "    }\n",
       "\n",
       "    .dataframe tbody tr th {\n",
       "        vertical-align: top;\n",
       "    }\n",
       "\n",
       "    .dataframe thead th {\n",
       "        text-align: right;\n",
       "    }\n",
       "</style>\n",
       "<table border=\"1\" class=\"dataframe\">\n",
       "  <thead>\n",
       "    <tr style=\"text-align: right;\">\n",
       "      <th></th>\n",
       "      <th>time_id</th>\n",
       "      <th>investment_id</th>\n",
       "      <th>target</th>\n",
       "      <th>f_1</th>\n",
       "      <th>f_2</th>\n",
       "      <th>f_3</th>\n",
       "      <th>f_4</th>\n",
       "      <th>f_5</th>\n",
       "      <th>f_6</th>\n",
       "      <th>f_7</th>\n",
       "      <th>...</th>\n",
       "      <th>f_291</th>\n",
       "      <th>f_292</th>\n",
       "      <th>f_293</th>\n",
       "      <th>f_294</th>\n",
       "      <th>f_295</th>\n",
       "      <th>f_296</th>\n",
       "      <th>f_297</th>\n",
       "      <th>f_298</th>\n",
       "      <th>f_299</th>\n",
       "      <th>f_300</th>\n",
       "    </tr>\n",
       "  </thead>\n",
       "  <tbody>\n",
       "    <tr>\n",
       "      <th>0</th>\n",
       "      <td>1190</td>\n",
       "      <td>3343</td>\n",
       "      <td>3.695418</td>\n",
       "      <td>0.891747</td>\n",
       "      <td>-0.618417</td>\n",
       "      <td>-1.314487</td>\n",
       "      <td>1.658175</td>\n",
       "      <td>-0.145222</td>\n",
       "      <td>-1.738492</td>\n",
       "      <td>0.519411</td>\n",
       "      <td>...</td>\n",
       "      <td>-2.321443</td>\n",
       "      <td>0.778009</td>\n",
       "      <td>-0.898460</td>\n",
       "      <td>0.729221</td>\n",
       "      <td>1.612538</td>\n",
       "      <td>8.506311</td>\n",
       "      <td>0.975039</td>\n",
       "      <td>1.944114</td>\n",
       "      <td>1.495665</td>\n",
       "      <td>-0.635142</td>\n",
       "    </tr>\n",
       "    <tr>\n",
       "      <th>1</th>\n",
       "      <td>1191</td>\n",
       "      <td>3343</td>\n",
       "      <td>-0.073458</td>\n",
       "      <td>1.164243</td>\n",
       "      <td>-0.088778</td>\n",
       "      <td>-1.476345</td>\n",
       "      <td>2.270411</td>\n",
       "      <td>-0.141770</td>\n",
       "      <td>-1.059745</td>\n",
       "      <td>0.005408</td>\n",
       "      <td>...</td>\n",
       "      <td>-2.688553</td>\n",
       "      <td>0.898878</td>\n",
       "      <td>0.036904</td>\n",
       "      <td>0.692805</td>\n",
       "      <td>0.179273</td>\n",
       "      <td>-0.017941</td>\n",
       "      <td>0.155361</td>\n",
       "      <td>1.111060</td>\n",
       "      <td>1.521391</td>\n",
       "      <td>-0.471366</td>\n",
       "    </tr>\n",
       "    <tr>\n",
       "      <th>2</th>\n",
       "      <td>1192</td>\n",
       "      <td>3343</td>\n",
       "      <td>-0.419417</td>\n",
       "      <td>1.213604</td>\n",
       "      <td>-0.116452</td>\n",
       "      <td>-2.010394</td>\n",
       "      <td>3.115935</td>\n",
       "      <td>-0.122198</td>\n",
       "      <td>-1.106612</td>\n",
       "      <td>-0.752239</td>\n",
       "      <td>...</td>\n",
       "      <td>-3.434932</td>\n",
       "      <td>1.143214</td>\n",
       "      <td>0.248022</td>\n",
       "      <td>0.359416</td>\n",
       "      <td>1.096542</td>\n",
       "      <td>-0.346462</td>\n",
       "      <td>1.223445</td>\n",
       "      <td>3.019190</td>\n",
       "      <td>1.608677</td>\n",
       "      <td>-0.440536</td>\n",
       "    </tr>\n",
       "    <tr>\n",
       "      <th>3</th>\n",
       "      <td>1193</td>\n",
       "      <td>3343</td>\n",
       "      <td>-0.034382</td>\n",
       "      <td>0.910897</td>\n",
       "      <td>0.271901</td>\n",
       "      <td>-1.848828</td>\n",
       "      <td>2.657564</td>\n",
       "      <td>-0.105062</td>\n",
       "      <td>-1.153733</td>\n",
       "      <td>-0.714587</td>\n",
       "      <td>...</td>\n",
       "      <td>-2.465214</td>\n",
       "      <td>0.218715</td>\n",
       "      <td>-0.195761</td>\n",
       "      <td>0.445945</td>\n",
       "      <td>3.330734</td>\n",
       "      <td>1.041750</td>\n",
       "      <td>-1.763295</td>\n",
       "      <td>2.136342</td>\n",
       "      <td>1.539820</td>\n",
       "      <td>-0.376783</td>\n",
       "    </tr>\n",
       "    <tr>\n",
       "      <th>4</th>\n",
       "      <td>1194</td>\n",
       "      <td>3343</td>\n",
       "      <td>-0.733093</td>\n",
       "      <td>0.453003</td>\n",
       "      <td>1.015306</td>\n",
       "      <td>-1.737455</td>\n",
       "      <td>3.215686</td>\n",
       "      <td>-0.119953</td>\n",
       "      <td>-1.714151</td>\n",
       "      <td>0.050244</td>\n",
       "      <td>...</td>\n",
       "      <td>-2.293862</td>\n",
       "      <td>-0.585587</td>\n",
       "      <td>1.455345</td>\n",
       "      <td>0.016785</td>\n",
       "      <td>-0.969209</td>\n",
       "      <td>-0.302271</td>\n",
       "      <td>-1.535171</td>\n",
       "      <td>1.109911</td>\n",
       "      <td>1.570687</td>\n",
       "      <td>-0.471614</td>\n",
       "    </tr>\n",
       "  </tbody>\n",
       "</table>\n",
       "<p>5 rows × 303 columns</p>\n",
       "</div>"
      ],
      "text/plain": [
       "   time_id  investment_id    target       f_1       f_2       f_3       f_4  \\\n",
       "0     1190           3343  3.695418  0.891747 -0.618417 -1.314487  1.658175   \n",
       "1     1191           3343 -0.073458  1.164243 -0.088778 -1.476345  2.270411   \n",
       "2     1192           3343 -0.419417  1.213604 -0.116452 -2.010394  3.115935   \n",
       "3     1193           3343 -0.034382  0.910897  0.271901 -1.848828  2.657564   \n",
       "4     1194           3343 -0.733093  0.453003  1.015306 -1.737455  3.215686   \n",
       "\n",
       "        f_5       f_6       f_7  ...     f_291     f_292     f_293     f_294  \\\n",
       "0 -0.145222 -1.738492  0.519411  ... -2.321443  0.778009 -0.898460  0.729221   \n",
       "1 -0.141770 -1.059745  0.005408  ... -2.688553  0.898878  0.036904  0.692805   \n",
       "2 -0.122198 -1.106612 -0.752239  ... -3.434932  1.143214  0.248022  0.359416   \n",
       "3 -0.105062 -1.153733 -0.714587  ... -2.465214  0.218715 -0.195761  0.445945   \n",
       "4 -0.119953 -1.714151  0.050244  ... -2.293862 -0.585587  1.455345  0.016785   \n",
       "\n",
       "      f_295     f_296     f_297     f_298     f_299     f_300  \n",
       "0  1.612538  8.506311  0.975039  1.944114  1.495665 -0.635142  \n",
       "1  0.179273 -0.017941  0.155361  1.111060  1.521391 -0.471366  \n",
       "2  1.096542 -0.346462  1.223445  3.019190  1.608677 -0.440536  \n",
       "3  3.330734  1.041750 -1.763295  2.136342  1.539820 -0.376783  \n",
       "4 -0.969209 -0.302271 -1.535171  1.109911  1.570687 -0.471614  \n",
       "\n",
       "[5 rows x 303 columns]"
      ]
     },
     "execution_count": 22,
     "metadata": {},
     "output_type": "execute_result"
    }
   ],
   "source": [
    "df_new = df_test[['investment_id','time_id','target']].pivot(index='time_id', columns ='investment_id', values='target')\n",
    "df_new = df_new.fillna(method=\"ffill\")\n",
    "df_new = df_new.fillna(method=\"bfill\")\n",
    "df_test_filled = df_new.melt(var_name='investment_id', value_name='target', ignore_index=False)\n",
    "\n",
    "for index in range(300):\n",
    "    df_new = df_test[['investment_id','time_id','f_'+str(index)]].pivot(index='time_id', columns ='investment_id', values='f_'+str(index))\n",
    "    df_new = df_new.fillna(method=\"ffill\")\n",
    "    df_new = df_new.fillna(method=\"bfill\")\n",
    "    df_new = df_new.melt(var_name='investment_id', value_name='f_'+str(index), ignore_index=False)\n",
    "    df_test_filled['f_'+str(index+1)] = df_new['f_'+str(index)].to_numpy()\n",
    "\n",
    "df_test_filled.reset_index(inplace=True)\n",
    "print('added values test =',len(df_test_filled)-len(df_test))\n",
    "df_test_filled.head()"
   ]
  },
  {
   "cell_type": "markdown",
   "id": "ffc54213",
   "metadata": {
    "papermill": {
     "duration": 0.04919,
     "end_time": "2022-03-05T10:00:21.718859",
     "exception": false,
     "start_time": "2022-03-05T10:00:21.669669",
     "status": "completed"
    },
    "tags": []
   },
   "source": [
    "## Create a separate \"y\" dataframe for target values and drop them from train, valid and test"
   ]
  },
  {
   "cell_type": "code",
   "execution_count": 23,
   "id": "19e57dd8",
   "metadata": {
    "execution": {
     "iopub.execute_input": "2022-03-05T10:00:21.831023Z",
     "iopub.status.busy": "2022-03-05T10:00:21.829545Z",
     "iopub.status.idle": "2022-03-05T10:00:21.904862Z",
     "shell.execute_reply": "2022-03-05T10:00:21.904238Z",
     "shell.execute_reply.started": "2022-03-05T09:56:52.262865Z"
    },
    "papermill": {
     "duration": 0.135343,
     "end_time": "2022-03-05T10:00:21.905006",
     "exception": false,
     "start_time": "2022-03-05T10:00:21.769663",
     "status": "completed"
    },
    "tags": []
   },
   "outputs": [],
   "source": [
    "y_train = df_train_filled[['time_id','investment_id','target']]\n",
    "df_train_filled = df_train_filled.drop(['target'],axis = 1)\n",
    "\n",
    "y_test = df_test_filled[['time_id','investment_id','target']]\n",
    "df_test_filled = df_test_filled.drop(['target'],axis = 1)\n",
    "\n",
    "y_valid = df_valid_filled[['time_id','investment_id','target']]\n",
    "df_valid_filled = df_valid_filled.drop(['target'],axis = 1)"
   ]
  },
  {
   "cell_type": "markdown",
   "id": "5b029b8f",
   "metadata": {
    "papermill": {
     "duration": 0.05018,
     "end_time": "2022-03-05T10:00:22.005741",
     "exception": false,
     "start_time": "2022-03-05T10:00:21.955561",
     "status": "completed"
    },
    "tags": []
   },
   "source": [
    "## Save training, validation and test dataframes and their corresponding target (y) dataframes"
   ]
  },
  {
   "cell_type": "code",
   "execution_count": 24,
   "id": "3be11f06",
   "metadata": {
    "execution": {
     "iopub.execute_input": "2022-03-05T10:00:22.112343Z",
     "iopub.status.busy": "2022-03-05T10:00:22.111531Z",
     "iopub.status.idle": "2022-03-05T10:00:22.114656Z",
     "shell.execute_reply": "2022-03-05T10:00:22.114042Z",
     "shell.execute_reply.started": "2022-03-05T09:56:52.352785Z"
    },
    "papermill": {
     "duration": 0.057637,
     "end_time": "2022-03-05T10:00:22.114825",
     "exception": false,
     "start_time": "2022-03-05T10:00:22.057188",
     "status": "completed"
    },
    "tags": []
   },
   "outputs": [],
   "source": [
    "import os\n",
    "os.mkdir('./Data')"
   ]
  },
  {
   "cell_type": "code",
   "execution_count": 25,
   "id": "8a8e37a1",
   "metadata": {
    "execution": {
     "iopub.execute_input": "2022-03-05T10:00:22.221982Z",
     "iopub.status.busy": "2022-03-05T10:00:22.221271Z",
     "iopub.status.idle": "2022-03-05T10:00:27.294718Z",
     "shell.execute_reply": "2022-03-05T10:00:27.294129Z",
     "shell.execute_reply.started": "2022-02-28T06:03:17.892862Z"
    },
    "papermill": {
     "duration": 5.130399,
     "end_time": "2022-03-05T10:00:27.294899",
     "exception": false,
     "start_time": "2022-03-05T10:00:22.164500",
     "status": "completed"
    },
    "tags": []
   },
   "outputs": [],
   "source": [
    "y_train.to_parquet('./Data/y_train.parquet', compression='gzip')\n",
    "y_test.to_parquet('./Data/y_test.parquet', compression='gzip')\n",
    "y_valid.to_parquet('./Data/y_valid.parquet', compression='gzip')\n",
    "df_train_filled.to_parquet('./Data/X_train.parquet', compression='gzip')\n",
    "df_test_filled.to_parquet('./Data/X_test.parquet', compression='gzip')\n",
    "df_valid_filled.to_parquet('./Data/X_valid.parquet', compression='gzip')"
   ]
  },
  {
   "cell_type": "code",
   "execution_count": 26,
   "id": "63256e80",
   "metadata": {
    "execution": {
     "iopub.execute_input": "2022-03-05T10:00:27.402461Z",
     "iopub.status.busy": "2022-03-05T10:00:27.401781Z",
     "iopub.status.idle": "2022-03-05T10:00:30.297346Z",
     "shell.execute_reply": "2022-03-05T10:00:30.296442Z",
     "shell.execute_reply.started": "2022-02-28T06:05:10.667667Z"
    },
    "papermill": {
     "duration": 2.950655,
     "end_time": "2022-03-05T10:00:30.297512",
     "exception": false,
     "start_time": "2022-03-05T10:00:27.346857",
     "status": "completed"
    },
    "tags": []
   },
   "outputs": [
    {
     "data": {
      "text/plain": [
       "'/kaggle/working/ubiquant_filled_v1_cluster_2of2.zip'"
      ]
     },
     "execution_count": 26,
     "metadata": {},
     "output_type": "execute_result"
    }
   ],
   "source": [
    "import shutil\n",
    "shutil.make_archive('ubiquant_filled_v1_cluster_'+str(current_cluster)+'of'+str(num_clusters), 'zip', './Data')"
   ]
  }
 ],
 "metadata": {
  "kernelspec": {
   "display_name": "Python 3",
   "language": "python",
   "name": "python3"
  },
  "language_info": {
   "codemirror_mode": {
    "name": "ipython",
    "version": 3
   },
   "file_extension": ".py",
   "mimetype": "text/x-python",
   "name": "python",
   "nbconvert_exporter": "python",
   "pygments_lexer": "ipython3",
   "version": "3.7.12"
  },
  "papermill": {
   "default_parameters": {},
   "duration": 78.265113,
   "end_time": "2022-03-05T10:00:31.162184",
   "environment_variables": {},
   "exception": null,
   "input_path": "__notebook__.ipynb",
   "output_path": "__notebook__.ipynb",
   "parameters": {},
   "start_time": "2022-03-05T09:59:12.897071",
   "version": "2.3.3"
  }
 },
 "nbformat": 4,
 "nbformat_minor": 5
}
