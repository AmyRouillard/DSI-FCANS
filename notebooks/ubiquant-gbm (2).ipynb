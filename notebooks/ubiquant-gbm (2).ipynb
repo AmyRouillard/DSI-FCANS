{
 "cells": [
  {
   "cell_type": "markdown",
   "id": "2f558237",
   "metadata": {
    "papermill": {
     "duration": 0.056524,
     "end_time": "2022-03-05T10:24:41.107579",
     "exception": false,
     "start_time": "2022-03-05T10:24:41.051055",
     "status": "completed"
    },
    "tags": []
   },
   "source": [
    "# Introduction"
   ]
  },
  {
   "cell_type": "markdown",
   "id": "2e73be52",
   "metadata": {
    "papermill": {
     "duration": 0.053117,
     "end_time": "2022-03-05T10:24:41.215452",
     "exception": false,
     "start_time": "2022-03-05T10:24:41.162335",
     "status": "completed"
    },
    "tags": []
   },
   "source": [
    "Light Gradient Boosting Machine, is a free and open source distributed gradient boosting framework for machine learning originally developed by Microsoft.\n",
    "Fast, distributed, high-performance gradient boosting framework based on decision tree algorithm.\n",
    "\n",
    "Gradient boosted decision trees is an ensemble model of decision trees. \n",
    "\n",
    "It is based on three important principles:\n",
    "\n",
    "1. Weak learners (decision trees).\n",
    "2. Gradient Optimization.\n",
    "3. Boosting Technique.\n",
    "\n",
    "In the gbdt method we have a lot of decision trees(weak learners). Those trees are built sequentially:\n",
    "\n",
    "first tree learns how to fit to the target variable\n",
    "second tree learns how to fit to the residual (difference) between the predictions of the first tree and the ground truth\n",
    "The third tree learns how to fit the residuals of the second tree and so on.\n",
    "All those trees are trained by propagating the gradients of errors throughout the system."
   ]
  },
  {
   "cell_type": "markdown",
   "id": "e1badaed",
   "metadata": {
    "papermill": {
     "duration": 0.052861,
     "end_time": "2022-03-05T10:24:41.320587",
     "exception": false,
     "start_time": "2022-03-05T10:24:41.267726",
     "status": "completed"
    },
    "tags": []
   },
   "source": [
    "The approach for this notebook is to sample the trainset using a range of time ids and do an initial model training to identify the most important features.\n",
    "\n",
    "These selected features will then be subset to train the main model.\n",
    "\n",
    "Metrics tracked from the full feature model and subset feature model will be compared."
   ]
  },
  {
   "cell_type": "markdown",
   "id": "104556fd",
   "metadata": {
    "execution": {
     "iopub.execute_input": "2022-03-04T17:07:01.480895Z",
     "iopub.status.busy": "2022-03-04T17:07:01.479501Z",
     "iopub.status.idle": "2022-03-04T17:07:01.517855Z",
     "shell.execute_reply": "2022-03-04T17:07:01.516333Z",
     "shell.execute_reply.started": "2022-03-04T17:07:01.480705Z"
    },
    "papermill": {
     "duration": 0.052839,
     "end_time": "2022-03-05T10:24:41.426790",
     "exception": false,
     "start_time": "2022-03-05T10:24:41.373951",
     "status": "completed"
    },
    "tags": []
   },
   "source": [
    "This notebook is made up of the following sections:\n",
    "\n",
    "1. Importing libraries\n",
    "2. Data importation\n",
    "3. Data wrangling\n",
    "4. Model training on full feature set\n",
    "5. Model training with select features\n",
    "6. Api Submission\n",
    "7. Evaluation\n"
   ]
  },
  {
   "cell_type": "markdown",
   "id": "840a0f3c",
   "metadata": {
    "papermill": {
     "duration": 0.052368,
     "end_time": "2022-03-05T10:24:41.531920",
     "exception": false,
     "start_time": "2022-03-05T10:24:41.479552",
     "status": "completed"
    },
    "tags": []
   },
   "source": [
    "## 1. Import Libraries"
   ]
  },
  {
   "cell_type": "markdown",
   "id": "b4dd26c7",
   "metadata": {
    "papermill": {
     "duration": 0.052037,
     "end_time": "2022-03-05T10:24:41.637236",
     "exception": false,
     "start_time": "2022-03-05T10:24:41.585199",
     "status": "completed"
    },
    "tags": []
   },
   "source": [
    "This section imports all the necessary libraries for data importation, wrangling, visualization and modeling.\n"
   ]
  },
  {
   "cell_type": "code",
   "execution_count": 1,
   "id": "e8ef6a74",
   "metadata": {
    "execution": {
     "iopub.execute_input": "2022-03-05T10:24:41.754552Z",
     "iopub.status.busy": "2022-03-05T10:24:41.752536Z",
     "iopub.status.idle": "2022-03-05T10:24:45.497686Z",
     "shell.execute_reply": "2022-03-05T10:24:45.498282Z",
     "shell.execute_reply.started": "2022-03-05T06:29:06.857899Z"
    },
    "papermill": {
     "duration": 3.808202,
     "end_time": "2022-03-05T10:24:45.498644",
     "exception": false,
     "start_time": "2022-03-05T10:24:41.690442",
     "status": "completed"
    },
    "tags": []
   },
   "outputs": [
    {
     "data": {
      "text/html": [
       "<style type='text/css'>\n",
       ".datatable table.frame { margin-bottom: 0; }\n",
       ".datatable table.frame thead { border-bottom: none; }\n",
       ".datatable table.frame tr.coltypes td {  color: #FFFFFF;  line-height: 6px;  padding: 0 0.5em;}\n",
       ".datatable .bool    { background: #DDDD99; }\n",
       ".datatable .object  { background: #565656; }\n",
       ".datatable .int     { background: #5D9E5D; }\n",
       ".datatable .float   { background: #4040CC; }\n",
       ".datatable .str     { background: #CC4040; }\n",
       ".datatable .time    { background: #40CC40; }\n",
       ".datatable .row_index {  background: var(--jp-border-color3);  border-right: 1px solid var(--jp-border-color0);  color: var(--jp-ui-font-color3);  font-size: 9px;}\n",
       ".datatable .frame tbody td { text-align: left; }\n",
       ".datatable .frame tr.coltypes .row_index {  background: var(--jp-border-color0);}\n",
       ".datatable th:nth-child(2) { padding-left: 12px; }\n",
       ".datatable .hellipsis {  color: var(--jp-cell-editor-border-color);}\n",
       ".datatable .vellipsis {  background: var(--jp-layout-color0);  color: var(--jp-cell-editor-border-color);}\n",
       ".datatable .na {  color: var(--jp-cell-editor-border-color);  font-size: 80%;}\n",
       ".datatable .sp {  opacity: 0.25;}\n",
       ".datatable .footer { font-size: 9px; }\n",
       ".datatable .frame_dimensions {  background: var(--jp-border-color3);  border-top: 1px solid var(--jp-border-color0);  color: var(--jp-ui-font-color3);  display: inline-block;  opacity: 0.6;  padding: 1px 10px 1px 5px;}\n",
       "</style>\n"
      ],
      "text/plain": [
       "<IPython.core.display.HTML object>"
      ]
     },
     "metadata": {},
     "output_type": "display_data"
    }
   ],
   "source": [
    "import pandas as pd                                     # Data manipulation\n",
    "import numpy as np                                      # Mathematical functions\n",
    "import gc                                               # Automatically releases memory when an object is no longer used\n",
    "import lightgbm as lgb                                  # High performance gradient boosting framework\n",
    "import time                                             # Representing time in code\n",
    "from sklearn.metrics import mean_squared_error          # Function for calculating MSE metric\n",
    "import scipy                                            # Scientific computing and technical computing\n",
    "from scipy.stats import pearsonr                        # Calculationg pearson correlation coefficient\n",
    "import matplotlib.pyplot as plt                         # Plotting\n",
    "import pickle                                           # Serializing object structures\n"
   ]
  },
  {
   "cell_type": "code",
   "execution_count": 2,
   "id": "2ca82a58",
   "metadata": {
    "execution": {
     "iopub.execute_input": "2022-03-05T10:24:45.613704Z",
     "iopub.status.busy": "2022-03-05T10:24:45.612598Z",
     "iopub.status.idle": "2022-03-05T10:24:45.614826Z",
     "shell.execute_reply": "2022-03-05T10:24:45.615398Z",
     "shell.execute_reply.started": "2022-03-05T06:29:08.011173Z"
    },
    "papermill": {
     "duration": 0.062377,
     "end_time": "2022-03-05T10:24:45.615560",
     "exception": false,
     "start_time": "2022-03-05T10:24:45.553183",
     "status": "completed"
    },
    "tags": []
   },
   "outputs": [],
   "source": [
    "## Remove scientific notation\n",
    "pd.set_option('display.float_format', lambda x: '%.2f' % x)"
   ]
  },
  {
   "cell_type": "markdown",
   "id": "9492a641",
   "metadata": {
    "papermill": {
     "duration": 0.053019,
     "end_time": "2022-03-05T10:24:45.722091",
     "exception": false,
     "start_time": "2022-03-05T10:24:45.669072",
     "status": "completed"
    },
    "tags": []
   },
   "source": [
    "## 2. Data Importation"
   ]
  },
  {
   "cell_type": "markdown",
   "id": "8037f5c5",
   "metadata": {
    "papermill": {
     "duration": 0.053721,
     "end_time": "2022-03-05T10:24:45.829704",
     "exception": false,
     "start_time": "2022-03-05T10:24:45.775983",
     "status": "completed"
    },
    "tags": []
   },
   "source": [
    "This competition's dataset (18.55 GB) is too large. We will use another dataset converted to utilize less memory in pickle format. The dataset is in pickle format and utilizes less memory."
   ]
  },
  {
   "cell_type": "code",
   "execution_count": 3,
   "id": "d61b2eb8",
   "metadata": {
    "execution": {
     "iopub.execute_input": "2022-03-05T10:24:45.941020Z",
     "iopub.status.busy": "2022-03-05T10:24:45.940272Z",
     "iopub.status.idle": "2022-03-05T10:25:03.626575Z",
     "shell.execute_reply": "2022-03-05T10:25:03.625914Z",
     "shell.execute_reply.started": "2022-03-05T06:29:13.289742Z"
    },
    "papermill": {
     "duration": 17.743291,
     "end_time": "2022-03-05T10:25:03.626734",
     "exception": false,
     "start_time": "2022-03-05T10:24:45.883443",
     "status": "completed"
    },
    "tags": []
   },
   "outputs": [],
   "source": [
    "## Import training data\n",
    "## A memory optimized pickle dataset will be utilized.\n",
    "\n",
    "df_train = pd.read_pickle('../input/ubiquant-market-prediction-half-precision-pickle/train.pkl')"
   ]
  },
  {
   "cell_type": "markdown",
   "id": "9b138ee3",
   "metadata": {
    "papermill": {
     "duration": 0.053831,
     "end_time": "2022-03-05T10:25:03.736498",
     "exception": false,
     "start_time": "2022-03-05T10:25:03.682667",
     "status": "completed"
    },
    "tags": []
   },
   "source": [
    "## 3. Data Wrangling"
   ]
  },
  {
   "cell_type": "code",
   "execution_count": 4,
   "id": "b58f62f1",
   "metadata": {
    "execution": {
     "iopub.execute_input": "2022-03-05T10:25:03.863464Z",
     "iopub.status.busy": "2022-03-05T10:25:03.862285Z",
     "iopub.status.idle": "2022-03-05T10:25:03.886844Z",
     "shell.execute_reply": "2022-03-05T10:25:03.887453Z",
     "shell.execute_reply.started": "2022-03-05T06:29:18.16747Z"
    },
    "papermill": {
     "duration": 0.09808,
     "end_time": "2022-03-05T10:25:03.887638",
     "exception": false,
     "start_time": "2022-03-05T10:25:03.789558",
     "status": "completed"
    },
    "tags": []
   },
   "outputs": [
    {
     "data": {
      "text/html": [
       "<div>\n",
       "<style scoped>\n",
       "    .dataframe tbody tr th:only-of-type {\n",
       "        vertical-align: middle;\n",
       "    }\n",
       "\n",
       "    .dataframe tbody tr th {\n",
       "        vertical-align: top;\n",
       "    }\n",
       "\n",
       "    .dataframe thead th {\n",
       "        text-align: right;\n",
       "    }\n",
       "</style>\n",
       "<table border=\"1\" class=\"dataframe\">\n",
       "  <thead>\n",
       "    <tr style=\"text-align: right;\">\n",
       "      <th></th>\n",
       "      <th>investment_id</th>\n",
       "      <th>time_id</th>\n",
       "      <th>f_0</th>\n",
       "      <th>f_1</th>\n",
       "      <th>f_2</th>\n",
       "      <th>f_3</th>\n",
       "      <th>f_4</th>\n",
       "      <th>f_5</th>\n",
       "      <th>f_6</th>\n",
       "      <th>f_7</th>\n",
       "      <th>...</th>\n",
       "      <th>f_291</th>\n",
       "      <th>f_292</th>\n",
       "      <th>f_293</th>\n",
       "      <th>f_294</th>\n",
       "      <th>f_295</th>\n",
       "      <th>f_296</th>\n",
       "      <th>f_297</th>\n",
       "      <th>f_298</th>\n",
       "      <th>f_299</th>\n",
       "      <th>target</th>\n",
       "    </tr>\n",
       "  </thead>\n",
       "  <tbody>\n",
       "    <tr>\n",
       "      <th>0</th>\n",
       "      <td>1</td>\n",
       "      <td>0</td>\n",
       "      <td>0.93</td>\n",
       "      <td>0.11</td>\n",
       "      <td>-0.40</td>\n",
       "      <td>0.38</td>\n",
       "      <td>-0.20</td>\n",
       "      <td>-0.41</td>\n",
       "      <td>0.97</td>\n",
       "      <td>1.23</td>\n",
       "      <td>...</td>\n",
       "      <td>-1.10</td>\n",
       "      <td>0.20</td>\n",
       "      <td>0.82</td>\n",
       "      <td>0.94</td>\n",
       "      <td>-0.09</td>\n",
       "      <td>-1.09</td>\n",
       "      <td>-1.04</td>\n",
       "      <td>-0.29</td>\n",
       "      <td>0.32</td>\n",
       "      <td>-0.30</td>\n",
       "    </tr>\n",
       "    <tr>\n",
       "      <th>1</th>\n",
       "      <td>2</td>\n",
       "      <td>0</td>\n",
       "      <td>0.81</td>\n",
       "      <td>-0.51</td>\n",
       "      <td>0.74</td>\n",
       "      <td>-0.62</td>\n",
       "      <td>-0.19</td>\n",
       "      <td>1.77</td>\n",
       "      <td>1.43</td>\n",
       "      <td>1.13</td>\n",
       "      <td>...</td>\n",
       "      <td>0.91</td>\n",
       "      <td>-0.73</td>\n",
       "      <td>0.82</td>\n",
       "      <td>0.94</td>\n",
       "      <td>-0.39</td>\n",
       "      <td>-1.09</td>\n",
       "      <td>-0.93</td>\n",
       "      <td>-0.97</td>\n",
       "      <td>-0.34</td>\n",
       "      <td>-0.23</td>\n",
       "    </tr>\n",
       "    <tr>\n",
       "      <th>2</th>\n",
       "      <td>6</td>\n",
       "      <td>0</td>\n",
       "      <td>0.39</td>\n",
       "      <td>0.62</td>\n",
       "      <td>0.57</td>\n",
       "      <td>-0.61</td>\n",
       "      <td>0.07</td>\n",
       "      <td>-1.08</td>\n",
       "      <td>0.98</td>\n",
       "      <td>-1.13</td>\n",
       "      <td>...</td>\n",
       "      <td>0.91</td>\n",
       "      <td>-0.55</td>\n",
       "      <td>-1.22</td>\n",
       "      <td>-1.06</td>\n",
       "      <td>-0.22</td>\n",
       "      <td>-1.09</td>\n",
       "      <td>-0.61</td>\n",
       "      <td>-0.11</td>\n",
       "      <td>0.24</td>\n",
       "      <td>0.57</td>\n",
       "    </tr>\n",
       "    <tr>\n",
       "      <th>3</th>\n",
       "      <td>7</td>\n",
       "      <td>0</td>\n",
       "      <td>-2.34</td>\n",
       "      <td>-0.01</td>\n",
       "      <td>1.88</td>\n",
       "      <td>-0.61</td>\n",
       "      <td>-0.59</td>\n",
       "      <td>-0.82</td>\n",
       "      <td>0.78</td>\n",
       "      <td>0.30</td>\n",
       "      <td>...</td>\n",
       "      <td>0.91</td>\n",
       "      <td>-0.27</td>\n",
       "      <td>-1.22</td>\n",
       "      <td>0.94</td>\n",
       "      <td>-0.61</td>\n",
       "      <td>0.10</td>\n",
       "      <td>-0.78</td>\n",
       "      <td>1.15</td>\n",
       "      <td>-0.77</td>\n",
       "      <td>-1.06</td>\n",
       "    </tr>\n",
       "    <tr>\n",
       "      <th>4</th>\n",
       "      <td>8</td>\n",
       "      <td>0</td>\n",
       "      <td>0.84</td>\n",
       "      <td>-0.26</td>\n",
       "      <td>2.33</td>\n",
       "      <td>-0.58</td>\n",
       "      <td>-0.62</td>\n",
       "      <td>-0.74</td>\n",
       "      <td>-0.95</td>\n",
       "      <td>1.23</td>\n",
       "      <td>...</td>\n",
       "      <td>0.91</td>\n",
       "      <td>-0.74</td>\n",
       "      <td>-1.22</td>\n",
       "      <td>0.94</td>\n",
       "      <td>-0.59</td>\n",
       "      <td>0.10</td>\n",
       "      <td>0.75</td>\n",
       "      <td>1.35</td>\n",
       "      <td>-0.74</td>\n",
       "      <td>-0.53</td>\n",
       "    </tr>\n",
       "  </tbody>\n",
       "</table>\n",
       "<p>5 rows × 303 columns</p>\n",
       "</div>"
      ],
      "text/plain": [
       "   investment_id  time_id   f_0   f_1   f_2   f_3   f_4   f_5   f_6   f_7  \\\n",
       "0              1        0  0.93  0.11 -0.40  0.38 -0.20 -0.41  0.97  1.23   \n",
       "1              2        0  0.81 -0.51  0.74 -0.62 -0.19  1.77  1.43  1.13   \n",
       "2              6        0  0.39  0.62  0.57 -0.61  0.07 -1.08  0.98 -1.13   \n",
       "3              7        0 -2.34 -0.01  1.88 -0.61 -0.59 -0.82  0.78  0.30   \n",
       "4              8        0  0.84 -0.26  2.33 -0.58 -0.62 -0.74 -0.95  1.23   \n",
       "\n",
       "   ...  f_291  f_292  f_293  f_294  f_295  f_296  f_297  f_298  f_299  target  \n",
       "0  ...  -1.10   0.20   0.82   0.94  -0.09  -1.09  -1.04  -0.29   0.32   -0.30  \n",
       "1  ...   0.91  -0.73   0.82   0.94  -0.39  -1.09  -0.93  -0.97  -0.34   -0.23  \n",
       "2  ...   0.91  -0.55  -1.22  -1.06  -0.22  -1.09  -0.61  -0.11   0.24    0.57  \n",
       "3  ...   0.91  -0.27  -1.22   0.94  -0.61   0.10  -0.78   1.15  -0.77   -1.06  \n",
       "4  ...   0.91  -0.74  -1.22   0.94  -0.59   0.10   0.75   1.35  -0.74   -0.53  \n",
       "\n",
       "[5 rows x 303 columns]"
      ]
     },
     "execution_count": 4,
     "metadata": {},
     "output_type": "execute_result"
    }
   ],
   "source": [
    "## Glimpse dataset\n",
    "df_train.head()"
   ]
  },
  {
   "cell_type": "code",
   "execution_count": 5,
   "id": "9a68730d",
   "metadata": {
    "execution": {
     "iopub.execute_input": "2022-03-05T10:25:04.007432Z",
     "iopub.status.busy": "2022-03-05T10:25:04.006420Z",
     "iopub.status.idle": "2022-03-05T10:25:04.038615Z",
     "shell.execute_reply": "2022-03-05T10:25:04.037995Z",
     "shell.execute_reply.started": "2022-03-05T06:29:20.936575Z"
    },
    "papermill": {
     "duration": 0.096354,
     "end_time": "2022-03-05T10:25:04.038763",
     "exception": false,
     "start_time": "2022-03-05T10:25:03.942409",
     "status": "completed"
    },
    "tags": []
   },
   "outputs": [
    {
     "data": {
      "text/plain": [
       "3579"
      ]
     },
     "execution_count": 5,
     "metadata": {},
     "output_type": "execute_result"
    }
   ],
   "source": [
    "## Number of investments\n",
    "df_train.investment_id.nunique()"
   ]
  },
  {
   "cell_type": "code",
   "execution_count": 6,
   "id": "c7bfb71a",
   "metadata": {
    "execution": {
     "iopub.execute_input": "2022-03-05T10:25:04.155293Z",
     "iopub.status.busy": "2022-03-05T10:25:04.154376Z",
     "iopub.status.idle": "2022-03-05T10:25:04.177989Z",
     "shell.execute_reply": "2022-03-05T10:25:04.178579Z",
     "shell.execute_reply.started": "2022-03-05T06:29:23.572513Z"
    },
    "papermill": {
     "duration": 0.084593,
     "end_time": "2022-03-05T10:25:04.178784",
     "exception": false,
     "start_time": "2022-03-05T10:25:04.094191",
     "status": "completed"
    },
    "tags": []
   },
   "outputs": [
    {
     "data": {
      "text/plain": [
       "1211"
      ]
     },
     "execution_count": 6,
     "metadata": {},
     "output_type": "execute_result"
    }
   ],
   "source": [
    "## Number of Time ids\n",
    "df_train.time_id.nunique()"
   ]
  },
  {
   "cell_type": "code",
   "execution_count": 7,
   "id": "43ff645f",
   "metadata": {
    "execution": {
     "iopub.execute_input": "2022-03-05T10:25:04.295539Z",
     "iopub.status.busy": "2022-03-05T10:25:04.294584Z",
     "iopub.status.idle": "2022-03-05T10:25:04.837587Z",
     "shell.execute_reply": "2022-03-05T10:25:04.838128Z",
     "shell.execute_reply.started": "2022-03-05T06:29:26.06369Z"
    },
    "papermill": {
     "duration": 0.604313,
     "end_time": "2022-03-05T10:25:04.838341",
     "exception": false,
     "start_time": "2022-03-05T10:25:04.234028",
     "status": "completed"
    },
    "tags": []
   },
   "outputs": [
    {
     "data": {
      "text/plain": [
       "count   3141410.00\n",
       "mean           NaN\n",
       "std           0.00\n",
       "min          -9.42\n",
       "25%          -0.50\n",
       "50%          -0.10\n",
       "75%           0.36\n",
       "max          12.04\n",
       "Name: target, dtype: float64"
      ]
     },
     "execution_count": 7,
     "metadata": {},
     "output_type": "execute_result"
    }
   ],
   "source": [
    "## Target feature distribution\n",
    "\n",
    "df_train.target.describe()"
   ]
  },
  {
   "cell_type": "markdown",
   "id": "ee072384",
   "metadata": {
    "papermill": {
     "duration": 0.054977,
     "end_time": "2022-03-05T10:25:04.948633",
     "exception": false,
     "start_time": "2022-03-05T10:25:04.893656",
     "status": "completed"
    },
    "tags": []
   },
   "source": [
    "Data for the trainset will be sampled as follows:\n",
    "\n",
    "1. trainset : time id 500 to time id 999\n",
    "2. testset : time id greater or equal to 1000\n"
   ]
  },
  {
   "cell_type": "code",
   "execution_count": 8,
   "id": "a66b1dce",
   "metadata": {
    "execution": {
     "iopub.execute_input": "2022-03-05T10:25:05.069913Z",
     "iopub.status.busy": "2022-03-05T10:25:05.068847Z",
     "iopub.status.idle": "2022-03-05T10:25:19.729003Z",
     "shell.execute_reply": "2022-03-05T10:25:19.729922Z",
     "shell.execute_reply.started": "2022-03-05T06:29:30.57288Z"
    },
    "papermill": {
     "duration": 14.726189,
     "end_time": "2022-03-05T10:25:19.730205",
     "exception": false,
     "start_time": "2022-03-05T10:25:05.004016",
     "status": "completed"
    },
    "tags": []
   },
   "outputs": [
    {
     "name": "stdout",
     "output_type": "stream",
     "text": [
      "df_train.shape:  (2081209, 303)\n",
      "X_train.shape:   (1373071, 300)\n",
      "X_val.shape:     (708138, 300)\n"
     ]
    }
   ],
   "source": [
    "## Sample investments with at least time_id 500\n",
    "first_time_id_to_use = 500 \n",
    "\n",
    "## Select anonymized features\n",
    "features_to_use= [col for col in df_train.columns if col.startswith(\"f\")] # use only the anonymised features\n",
    "\n",
    "## Cap training set at time id 1000\n",
    "time_id_to_split_train_and_val = 1000\n",
    "\n",
    "## Filter for investments greater than time period\n",
    "df_train = df_train.loc[df_train.time_id >= first_time_id_to_use]\n",
    "print(\"df_train.shape: \",df_train.shape)\n",
    "\n",
    "## Split data into train and validation set\n",
    "X_train = df_train.loc[df_train.time_id < time_id_to_split_train_and_val]\n",
    "X_val = df_train.loc[df_train.time_id >= time_id_to_split_train_and_val]\n",
    "\n",
    "## Select target features\n",
    "y_train = X_train.target\n",
    "y_val = X_val.target\n",
    "\n",
    "## Select independent features (anonymalized)\n",
    "X_train = X_train[features_to_use]\n",
    "X_val = X_val[features_to_use]\n",
    "\n",
    "print(\"X_train.shape:  \", X_train.shape)\n",
    "print(\"X_val.shape:    \", X_val.shape)"
   ]
  },
  {
   "cell_type": "markdown",
   "id": "4cab9f5b",
   "metadata": {
    "papermill": {
     "duration": 0.056913,
     "end_time": "2022-03-05T10:25:19.844940",
     "exception": false,
     "start_time": "2022-03-05T10:25:19.788027",
     "status": "completed"
    },
    "tags": []
   },
   "source": [
    "## 4. Model Training on Full Feature Set"
   ]
  },
  {
   "cell_type": "markdown",
   "id": "e8b6fe25",
   "metadata": {
    "papermill": {
     "duration": 0.056328,
     "end_time": "2022-03-05T10:25:19.958359",
     "exception": false,
     "start_time": "2022-03-05T10:25:19.902031",
     "status": "completed"
    },
    "tags": []
   },
   "source": [
    "The model will be first trained on full set of features to identify most important features. The final model will then be trained on a subset of the identified features."
   ]
  },
  {
   "cell_type": "markdown",
   "id": "218134a9",
   "metadata": {
    "papermill": {
     "duration": 0.057305,
     "end_time": "2022-03-05T10:25:20.073025",
     "exception": false,
     "start_time": "2022-03-05T10:25:20.015720",
     "status": "completed"
    },
    "tags": []
   },
   "source": [
    "* The datasets will be converted to light GBM data containers before training.\n",
    "* Initial model training on sample set will be conducted to identify the most important features."
   ]
  },
  {
   "cell_type": "code",
   "execution_count": 9,
   "id": "8ba28f65",
   "metadata": {
    "execution": {
     "iopub.execute_input": "2022-03-05T10:25:20.194769Z",
     "iopub.status.busy": "2022-03-05T10:25:20.193668Z",
     "iopub.status.idle": "2022-03-05T10:25:20.195877Z",
     "shell.execute_reply": "2022-03-05T10:25:20.196490Z",
     "shell.execute_reply.started": "2022-03-05T06:30:32.232327Z"
    },
    "papermill": {
     "duration": 0.065783,
     "end_time": "2022-03-05T10:25:20.196686",
     "exception": false,
     "start_time": "2022-03-05T10:25:20.130903",
     "status": "completed"
    },
    "tags": []
   },
   "outputs": [],
   "source": [
    "## create lgbm containers\n",
    "dtrain = lgb.Dataset(X_train, label=y_train)\n",
    "dval = lgb.Dataset(X_val, label=y_val)"
   ]
  },
  {
   "cell_type": "markdown",
   "id": "8e7bb361",
   "metadata": {
    "papermill": {
     "duration": 0.057201,
     "end_time": "2022-03-05T10:25:20.310474",
     "exception": false,
     "start_time": "2022-03-05T10:25:20.253273",
     "status": "completed"
    },
    "tags": []
   },
   "source": [
    "Defining model parameters to train initial model."
   ]
  },
  {
   "cell_type": "code",
   "execution_count": 10,
   "id": "a07b312b",
   "metadata": {
    "execution": {
     "iopub.execute_input": "2022-03-05T10:25:20.429806Z",
     "iopub.status.busy": "2022-03-05T10:25:20.428673Z",
     "iopub.status.idle": "2022-03-05T10:25:20.431017Z",
     "shell.execute_reply": "2022-03-05T10:25:20.431577Z",
     "shell.execute_reply.started": "2022-03-05T06:30:34.761594Z"
    },
    "papermill": {
     "duration": 0.065644,
     "end_time": "2022-03-05T10:25:20.431755",
     "exception": false,
     "start_time": "2022-03-05T10:25:20.366111",
     "status": "completed"
    },
    "tags": []
   },
   "outputs": [],
   "source": [
    "## Define parameters\n",
    "\n",
    "lgb_params = {'objective': 'regression', ## max number of leaves in one tree.\n",
    "    'metric': 'MSE', ## Mean Squared Error to be evaluated on the evaluation set.\n",
    "    'boosting_type': 'gbdt', ## traditional Gradient Boosting Decision Tree\n",
    "    'lambda_l1': 2.3e-05, ## combat overfitting\n",
    "    'lambda_l2': 0.1, ## combat overfitting\n",
    "    'num_leaves': 4, ## set the maximum number of leaves each weak learner has\n",
    "    'feature_fraction': 0.5, ## randomly select a subset of features on each iteration (tree) for training.\n",
    "    'bagging_fraction': 0.9, ## randomly select part of data without resampling\n",
    "    'bagging_freq': 7, ## frequency for bagging\n",
    "    'min_child_samples': 20, ## Minimum number of data points needed in a child (leaf) node.\n",
    "    'num_iterations': 1000 ## controls the number of boosting rounds that will be performed (number of trees)\n",
    "             }"
   ]
  },
  {
   "cell_type": "code",
   "execution_count": 11,
   "id": "0512e9b7",
   "metadata": {
    "execution": {
     "iopub.execute_input": "2022-03-05T10:25:20.550862Z",
     "iopub.status.busy": "2022-03-05T10:25:20.550174Z",
     "iopub.status.idle": "2022-03-05T10:31:44.909812Z",
     "shell.execute_reply": "2022-03-05T10:31:44.910702Z",
     "shell.execute_reply.started": "2022-03-05T06:31:06.793218Z"
    },
    "papermill": {
     "duration": 384.423557,
     "end_time": "2022-03-05T10:31:44.910960",
     "exception": false,
     "start_time": "2022-03-05T10:25:20.487403",
     "status": "completed"
    },
    "tags": []
   },
   "outputs": [
    {
     "name": "stderr",
     "output_type": "stream",
     "text": [
      "/opt/conda/lib/python3.7/site-packages/lightgbm/engine.py:177: UserWarning: Found `num_iterations` in params. Will use it instead of argument\n",
      "  _log_warning(f\"Found `{alias}` in params. Will use it instead of argument\")\n"
     ]
    },
    {
     "name": "stdout",
     "output_type": "stream",
     "text": [
      "[LightGBM] [Warning] Auto-choosing col-wise multi-threading, the overhead of testing was 6.524074 seconds.\n",
      "You can set `force_col_wise=true` to remove the overhead.\n",
      "[LightGBM] [Info] Total Bins 76500\n",
      "[LightGBM] [Info] Number of data points in the train set: 1373071, number of used features: 300\n",
      "[LightGBM] [Info] Start training from score -0.015203\n",
      "Training until validation scores don't improve for 100 rounds\n",
      "[100]\ttrain's l2: 0.851083\tval's l2: 0.807418\n",
      "[200]\ttrain's l2: 0.847138\tval's l2: 0.806315\n",
      "[300]\ttrain's l2: 0.84416\tval's l2: 0.805887\n",
      "[400]\ttrain's l2: 0.84167\tval's l2: 0.805614\n",
      "[500]\ttrain's l2: 0.839433\tval's l2: 0.805535\n",
      "Early stopping, best iteration is:\n",
      "[461]\ttrain's l2: 0.840304\tval's l2: 0.805501\n",
      "\n",
      "Training time: 384.294s\n"
     ]
    }
   ],
   "source": [
    "ts = time.time()\n",
    "\n",
    "# dict for logging the evaluation metrics\n",
    "metric_over_time = {} \n",
    "\n",
    "## Train model\n",
    "model = lgb.train(        \n",
    "        lgb_params, \n",
    "        dtrain, \n",
    "        valid_sets=[dtrain, dval],\n",
    "        valid_names=['train','val'],\n",
    "        callbacks=[lgb.early_stopping(100), lgb.log_evaluation(100), lgb.record_evaluation(metric_over_time)]\n",
    "    )\n",
    "\n",
    "\n",
    "execution_time = time.time() - ts\n",
    "print(\"\\nTraining time: \" + str(round(execution_time,3)) + \"s\")"
   ]
  },
  {
   "cell_type": "markdown",
   "id": "889318e2",
   "metadata": {
    "papermill": {
     "duration": 0.060836,
     "end_time": "2022-03-05T10:31:45.033995",
     "exception": false,
     "start_time": "2022-03-05T10:31:44.973159",
     "status": "completed"
    },
    "tags": []
   },
   "source": [
    "We will evaluate model perfomance initial model using mean squared error (MSE) and root mean squared error (RMSE) metrics. \n",
    "\n",
    "These metrics will be compared to the main model metrics to gauge if reducing the number of features will impact the model."
   ]
  },
  {
   "cell_type": "code",
   "execution_count": 12,
   "id": "5a57b7b0",
   "metadata": {
    "execution": {
     "iopub.execute_input": "2022-03-05T10:31:45.162690Z",
     "iopub.status.busy": "2022-03-05T10:31:45.161279Z",
     "iopub.status.idle": "2022-03-05T10:31:57.513168Z",
     "shell.execute_reply": "2022-03-05T10:31:57.514190Z",
     "shell.execute_reply.started": "2022-03-05T06:37:26.444451Z"
    },
    "papermill": {
     "duration": 12.419436,
     "end_time": "2022-03-05T10:31:57.514483",
     "exception": false,
     "start_time": "2022-03-05T10:31:45.095047",
     "status": "completed"
    },
    "tags": []
   },
   "outputs": [
    {
     "name": "stdout",
     "output_type": "stream",
     "text": [
      "MSE:   0.8055005324507704\n",
      "RMSE:  0.8974968147301529\n"
     ]
    }
   ],
   "source": [
    "\n",
    "# Make predictions on sample test set\n",
    "y_val_hat = model.predict(X_val)\n",
    "\n",
    "# Print sample model metrics\n",
    "print(\"MSE:  \", mean_squared_error(y_val, y_val_hat, squared=True))\n",
    "print(\"RMSE: \", mean_squared_error(y_val, y_val_hat, squared=False))"
   ]
  },
  {
   "cell_type": "markdown",
   "id": "2dd0c7f1",
   "metadata": {
    "papermill": {
     "duration": 0.062418,
     "end_time": "2022-03-05T10:31:57.639349",
     "exception": false,
     "start_time": "2022-03-05T10:31:57.576931",
     "status": "completed"
    },
    "tags": []
   },
   "source": [
    "We will run correlation analysis to measure relationship between predicted and actual values."
   ]
  },
  {
   "cell_type": "code",
   "execution_count": 13,
   "id": "b8abd173",
   "metadata": {
    "execution": {
     "iopub.execute_input": "2022-03-05T10:31:57.769186Z",
     "iopub.status.busy": "2022-03-05T10:31:57.768124Z",
     "iopub.status.idle": "2022-03-05T10:31:57.798043Z",
     "shell.execute_reply": "2022-03-05T10:31:57.799267Z",
     "shell.execute_reply.started": "2022-03-05T06:38:04.227735Z"
    },
    "papermill": {
     "duration": 0.098166,
     "end_time": "2022-03-05T10:31:57.799684",
     "exception": false,
     "start_time": "2022-03-05T10:31:57.701518",
     "status": "completed"
    },
    "tags": []
   },
   "outputs": [
    {
     "name": "stdout",
     "output_type": "stream",
     "text": [
      "Pearson Correlation Coeficient Validation Data:  0.12600954147083407\n"
     ]
    }
   ],
   "source": [
    "# check the competition metric \n",
    "# correlation between predicted and actual\n",
    "corr, _ = pearsonr(y_val_hat, y_val)\n",
    "print(\"Pearson Correlation Coeficient Validation Data: \", corr)"
   ]
  },
  {
   "cell_type": "markdown",
   "id": "47d89c5f",
   "metadata": {
    "papermill": {
     "duration": 0.061625,
     "end_time": "2022-03-05T10:31:57.976909",
     "exception": false,
     "start_time": "2022-03-05T10:31:57.915284",
     "status": "completed"
    },
    "tags": []
   },
   "source": [
    "Visualization of error metric during training."
   ]
  },
  {
   "cell_type": "code",
   "execution_count": 14,
   "id": "5bb32dc4",
   "metadata": {
    "execution": {
     "iopub.execute_input": "2022-03-05T10:31:58.113921Z",
     "iopub.status.busy": "2022-03-05T10:31:58.112967Z",
     "iopub.status.idle": "2022-03-05T10:31:58.421255Z",
     "shell.execute_reply": "2022-03-05T10:31:58.420718Z",
     "shell.execute_reply.started": "2022-03-05T06:38:09.464536Z"
    },
    "papermill": {
     "duration": 0.382231,
     "end_time": "2022-03-05T10:31:58.421429",
     "exception": false,
     "start_time": "2022-03-05T10:31:58.039198",
     "status": "completed"
    },
    "tags": []
   },
   "outputs": [
    {
     "data": {
      "image/png": "[encoded data removed]",
      "text/plain": [
       "<Figure size 720x360 with 1 Axes>"
      ]
     },
     "metadata": {
      "needs_background": "light"
     },
     "output_type": "display_data"
    }
   ],
   "source": [
    "## Plot metric (MSE)\n",
    "lgb.plot_metric(metric_over_time, figsize=(10,5))\n",
    "plt.show()"
   ]
  },
  {
   "cell_type": "markdown",
   "id": "719cfc5a",
   "metadata": {
    "papermill": {
     "duration": 0.065067,
     "end_time": "2022-03-05T10:31:58.552901",
     "exception": false,
     "start_time": "2022-03-05T10:31:58.487834",
     "status": "completed"
    },
    "tags": []
   },
   "source": [
    "A plot of feature importance is used to visualize how a feature impacts the model relative to other features."
   ]
  },
  {
   "cell_type": "code",
   "execution_count": 15,
   "id": "1db12163",
   "metadata": {
    "execution": {
     "iopub.execute_input": "2022-03-05T10:31:58.719608Z",
     "iopub.status.busy": "2022-03-05T10:31:58.718104Z",
     "iopub.status.idle": "2022-03-05T10:31:59.167465Z",
     "shell.execute_reply": "2022-03-05T10:31:59.166858Z",
     "shell.execute_reply.started": "2022-03-05T06:51:29.395873Z"
    },
    "papermill": {
     "duration": 0.548612,
     "end_time": "2022-03-05T10:31:59.167643",
     "exception": false,
     "start_time": "2022-03-05T10:31:58.619031",
     "status": "completed"
    },
    "tags": []
   },
   "outputs": [
    {
     "data": {
      "image/png": "[encoded data removed]",
      "text/plain": [
       "<Figure size 720x432 with 1 Axes>"
      ]
     },
     "metadata": {
      "needs_background": "light"
     },
     "output_type": "display_data"
    }
   ],
   "source": [
    "# let's look at which features lgbm deems important\n",
    "## We will plot top 20\n",
    "lgb.plot_importance(model, figsize=(10,6), importance_type='gain', max_num_features=20) # importance_type: gain/split: V7 has 'split'\n",
    "plt.show()"
   ]
  },
  {
   "cell_type": "markdown",
   "id": "9c51eff6",
   "metadata": {
    "papermill": {
     "duration": 0.066166,
     "end_time": "2022-03-05T10:31:59.300396",
     "exception": false,
     "start_time": "2022-03-05T10:31:59.234230",
     "status": "completed"
    },
    "tags": []
   },
   "source": [
    "Gain implies the relative contribution of the corresponding feature to the model calculated by taking each feature’s contribution for each tree in the model. A higher value of this metric when compared to another feature implies it is more important for generating a prediction."
   ]
  },
  {
   "cell_type": "code",
   "execution_count": 16,
   "id": "51ec6393",
   "metadata": {
    "execution": {
     "iopub.execute_input": "2022-03-05T10:31:59.546027Z",
     "iopub.status.busy": "2022-03-05T10:31:59.544778Z",
     "iopub.status.idle": "2022-03-05T10:31:59.556058Z",
     "shell.execute_reply": "2022-03-05T10:31:59.555046Z",
     "shell.execute_reply.started": "2022-03-05T06:56:00.595217Z"
    },
    "papermill": {
     "duration": 0.177465,
     "end_time": "2022-03-05T10:31:59.556332",
     "exception": false,
     "start_time": "2022-03-05T10:31:59.378867",
     "status": "completed"
    },
    "tags": []
   },
   "outputs": [
    {
     "name": "stdout",
     "output_type": "stream",
     "text": [
      "     Value Feature\n",
      "0 14640.72   f_231\n",
      "1  4853.14   f_165\n",
      "2  4511.10   f_119\n",
      "3  4233.09   f_225\n",
      "4  3256.03   f_153\n",
      "\n",
      "Value Distribution\n",
      "count     300.00\n",
      "mean      516.25\n",
      "std      1082.89\n",
      "min         0.00\n",
      "25%        53.56\n",
      "50%       187.17\n",
      "75%       598.26\n",
      "max     14640.72\n",
      "Name: Value, dtype: float64\n"
     ]
    }
   ],
   "source": [
    "# there are features with little importance, get rid of them\n",
    "imp = pd.DataFrame({'Value':model.feature_importance(importance_type='gain'),'Feature':X_train.columns}).sort_values(by=\"Value\",ascending=False).reset_index(drop=True)\n",
    "print(imp.head())\n",
    "print(\"\")\n",
    "print(\"Value Distribution\")\n",
    "print(imp.Value.describe())\n"
   ]
  },
  {
   "cell_type": "markdown",
   "id": "142eae5a",
   "metadata": {
    "papermill": {
     "duration": 0.114647,
     "end_time": "2022-03-05T10:31:59.796426",
     "exception": false,
     "start_time": "2022-03-05T10:31:59.681779",
     "status": "completed"
    },
    "tags": []
   },
   "source": [
    "Features with gain greater than 100 will be subset to train the main model."
   ]
  },
  {
   "cell_type": "code",
   "execution_count": 17,
   "id": "295bfee8",
   "metadata": {
    "execution": {
     "iopub.execute_input": "2022-03-05T10:32:00.033017Z",
     "iopub.status.busy": "2022-03-05T10:32:00.032012Z",
     "iopub.status.idle": "2022-03-05T10:32:00.043051Z",
     "shell.execute_reply": "2022-03-05T10:32:00.041826Z",
     "shell.execute_reply.started": "2022-03-05T06:56:38.157899Z"
    },
    "papermill": {
     "duration": 0.132733,
     "end_time": "2022-03-05T10:32:00.043277",
     "exception": false,
     "start_time": "2022-03-05T10:31:59.910544",
     "status": "completed"
    },
    "tags": []
   },
   "outputs": [
    {
     "name": "stdout",
     "output_type": "stream",
     "text": [
      "Number of features, new:  188\n"
     ]
    }
   ],
   "source": [
    "#imp.Value.value_counts()\n",
    "imp = imp[imp.Value>100]  # remove all features with gain lower than 100\n",
    "new_feature_list = list(imp.Feature)\n",
    "print(\"Number of features, new: \", len(new_feature_list))"
   ]
  },
  {
   "cell_type": "code",
   "execution_count": 18,
   "id": "4ccb3051",
   "metadata": {
    "execution": {
     "iopub.execute_input": "2022-03-05T10:32:00.204708Z",
     "iopub.status.busy": "2022-03-05T10:32:00.203568Z",
     "iopub.status.idle": "2022-03-05T10:32:00.216386Z",
     "shell.execute_reply": "2022-03-05T10:32:00.215749Z",
     "shell.execute_reply.started": "2022-03-05T06:56:42.826482Z"
    },
    "papermill": {
     "duration": 0.092235,
     "end_time": "2022-03-05T10:32:00.216545",
     "exception": false,
     "start_time": "2022-03-05T10:32:00.124310",
     "status": "completed"
    },
    "tags": []
   },
   "outputs": [],
   "source": [
    "# save model to disk, it will take up approx. 263kB\n",
    "filename = 'finalized_model.sav'\n",
    "pickle.dump(model, open(filename, 'wb'))"
   ]
  },
  {
   "cell_type": "markdown",
   "id": "0fc0ba46",
   "metadata": {
    "papermill": {
     "duration": 0.067204,
     "end_time": "2022-03-05T10:32:00.351238",
     "exception": false,
     "start_time": "2022-03-05T10:32:00.284034",
     "status": "completed"
    },
    "tags": []
   },
   "source": [
    "Free up memory before main model training."
   ]
  },
  {
   "cell_type": "code",
   "execution_count": 19,
   "id": "180423be",
   "metadata": {
    "execution": {
     "iopub.execute_input": "2022-03-05T10:32:00.489440Z",
     "iopub.status.busy": "2022-03-05T10:32:00.486922Z",
     "iopub.status.idle": "2022-03-05T10:32:00.499277Z",
     "shell.execute_reply": "2022-03-05T10:32:00.498642Z",
     "shell.execute_reply.started": "2022-03-05T06:56:51.924571Z"
    },
    "papermill": {
     "duration": 0.081677,
     "end_time": "2022-03-05T10:32:00.499464",
     "exception": false,
     "start_time": "2022-03-05T10:32:00.417787",
     "status": "completed"
    },
    "tags": []
   },
   "outputs": [],
   "source": [
    "del model,y_val_hat,dtrain,dval,imp # free up memory\n"
   ]
  },
  {
   "cell_type": "markdown",
   "id": "42871d45",
   "metadata": {
    "papermill": {
     "duration": 0.065277,
     "end_time": "2022-03-05T10:32:00.630184",
     "exception": false,
     "start_time": "2022-03-05T10:32:00.564907",
     "status": "completed"
    },
    "tags": []
   },
   "source": [
    "## 5. Model Training on Selected Features"
   ]
  },
  {
   "cell_type": "markdown",
   "id": "ed0363c4",
   "metadata": {
    "papermill": {
     "duration": 0.065952,
     "end_time": "2022-03-05T10:32:00.762762",
     "exception": false,
     "start_time": "2022-03-05T10:32:00.696810",
     "status": "completed"
    },
    "tags": []
   },
   "source": [
    "Filter for subset of selected features and convert the data to light GBM data containers for training and test sets."
   ]
  },
  {
   "cell_type": "code",
   "execution_count": 20,
   "id": "c0de9991",
   "metadata": {
    "execution": {
     "iopub.execute_input": "2022-03-05T10:32:00.908656Z",
     "iopub.status.busy": "2022-03-05T10:32:00.907070Z",
     "iopub.status.idle": "2022-03-05T10:32:01.535656Z",
     "shell.execute_reply": "2022-03-05T10:32:01.535011Z",
     "shell.execute_reply.started": "2022-03-05T06:56:58.890617Z"
    },
    "papermill": {
     "duration": 0.706352,
     "end_time": "2022-03-05T10:32:01.535815",
     "exception": false,
     "start_time": "2022-03-05T10:32:00.829463",
     "status": "completed"
    },
    "tags": []
   },
   "outputs": [],
   "source": [
    "## Now it's time to retrain with the reduced feature set.\n",
    "\n",
    "dtrain = lgb.Dataset(X_train[new_feature_list], label=y_train)\n",
    "dval = lgb.Dataset(X_val[new_feature_list], label=y_val)\n"
   ]
  },
  {
   "cell_type": "markdown",
   "id": "04335c90",
   "metadata": {
    "papermill": {
     "duration": 0.066354,
     "end_time": "2022-03-05T10:32:01.668561",
     "exception": false,
     "start_time": "2022-03-05T10:32:01.602207",
     "status": "completed"
    },
    "tags": []
   },
   "source": [
    "Train the data on selected subset of features."
   ]
  },
  {
   "cell_type": "code",
   "execution_count": 21,
   "id": "26610b18",
   "metadata": {
    "execution": {
     "iopub.execute_input": "2022-03-05T10:32:01.810994Z",
     "iopub.status.busy": "2022-03-05T10:32:01.809483Z",
     "iopub.status.idle": "2022-03-05T10:36:00.854124Z",
     "shell.execute_reply": "2022-03-05T10:36:00.854790Z",
     "shell.execute_reply.started": "2022-03-05T06:57:05.556024Z"
    },
    "papermill": {
     "duration": 239.120622,
     "end_time": "2022-03-05T10:36:00.855043",
     "exception": false,
     "start_time": "2022-03-05T10:32:01.734421",
     "status": "completed"
    },
    "tags": []
   },
   "outputs": [
    {
     "name": "stderr",
     "output_type": "stream",
     "text": [
      "/opt/conda/lib/python3.7/site-packages/lightgbm/engine.py:177: UserWarning: Found `num_iterations` in params. Will use it instead of argument\n",
      "  _log_warning(f\"Found `{alias}` in params. Will use it instead of argument\")\n"
     ]
    },
    {
     "name": "stdout",
     "output_type": "stream",
     "text": [
      "[LightGBM] [Warning] Auto-choosing col-wise multi-threading, the overhead of testing was 3.240026 seconds.\n",
      "You can set `force_col_wise=true` to remove the overhead.\n",
      "[LightGBM] [Info] Total Bins 47940\n",
      "[LightGBM] [Info] Number of data points in the train set: 1373071, number of used features: 188\n",
      "[LightGBM] [Info] Start training from score -0.015203\n",
      "Training until validation scores don't improve for 100 rounds\n",
      "[100]\ttrain's l2: 0.851056\tval's l2: 0.807663\n",
      "[200]\ttrain's l2: 0.847204\tval's l2: 0.80627\n",
      "[300]\ttrain's l2: 0.844254\tval's l2: 0.805558\n",
      "[400]\ttrain's l2: 0.841698\tval's l2: 0.805341\n",
      "[500]\ttrain's l2: 0.839565\tval's l2: 0.805905\n",
      "Early stopping, best iteration is:\n",
      "[430]\ttrain's l2: 0.84108\tval's l2: 0.80524\n",
      "\n",
      "Training time: 239.043s\n"
     ]
    }
   ],
   "source": [
    "\n",
    "# Cell start time\n",
    "ts = time.time()\n",
    "\n",
    "## Run model with early stopping\n",
    "model = lgb.train(        \n",
    "        lgb_params, \n",
    "        dtrain, \n",
    "        valid_sets=[dtrain, dval],\n",
    "        valid_names=['train','val'],\n",
    "        callbacks=[lgb.early_stopping(100), lgb.log_evaluation(100), lgb.record_evaluation(metric_over_time)]\n",
    "    )\n",
    "\n",
    "\n",
    "## Cell completion time\n",
    "execution_time = time.time() - ts\n",
    "print(\"\\nTraining time: \" + str(round(execution_time,3)) + \"s\")"
   ]
  },
  {
   "cell_type": "markdown",
   "id": "7ea4cd4c",
   "metadata": {
    "papermill": {
     "duration": 0.071118,
     "end_time": "2022-03-05T10:36:00.995790",
     "exception": false,
     "start_time": "2022-03-05T10:36:00.924672",
     "status": "completed"
    },
    "tags": []
   },
   "source": [
    "Make predictions on test set."
   ]
  },
  {
   "cell_type": "code",
   "execution_count": 22,
   "id": "0574c9b1",
   "metadata": {
    "execution": {
     "iopub.execute_input": "2022-03-05T10:36:01.144505Z",
     "iopub.status.busy": "2022-03-05T10:36:01.142870Z",
     "iopub.status.idle": "2022-03-05T10:36:12.562050Z",
     "shell.execute_reply": "2022-03-05T10:36:12.563453Z",
     "shell.execute_reply.started": "2022-03-05T07:03:47.057473Z"
    },
    "papermill": {
     "duration": 11.498011,
     "end_time": "2022-03-05T10:36:12.563769",
     "exception": false,
     "start_time": "2022-03-05T10:36:01.065758",
     "status": "completed"
    },
    "tags": []
   },
   "outputs": [
    {
     "name": "stdout",
     "output_type": "stream",
     "text": [
      "MSE:   0.8052403598855596\n",
      "RMSE:  0.8973518595765875\n"
     ]
    }
   ],
   "source": [
    "# Predictions\n",
    "y_val_hat = model.predict(X_val[new_feature_list])\n",
    "\n",
    "# using MSE as a proxy for pearson corellation (https://www.kaggle.com/c/ubiquant-market-prediction/discussion/302181)\n",
    "print(\"MSE:  \", mean_squared_error(y_val, y_val_hat, squared=True))\n",
    "print(\"RMSE: \", mean_squared_error(y_val, y_val_hat, squared=False))"
   ]
  },
  {
   "cell_type": "code",
   "execution_count": 23,
   "id": "987a01de",
   "metadata": {
    "execution": {
     "iopub.execute_input": "2022-03-05T10:36:12.854839Z",
     "iopub.status.busy": "2022-03-05T10:36:12.853840Z",
     "iopub.status.idle": "2022-03-05T10:36:12.881917Z",
     "shell.execute_reply": "2022-03-05T10:36:12.883563Z",
     "shell.execute_reply.started": "2022-03-05T07:04:29.067338Z"
    },
    "papermill": {
     "duration": 0.162426,
     "end_time": "2022-03-05T10:36:12.883840",
     "exception": false,
     "start_time": "2022-03-05T10:36:12.721414",
     "status": "completed"
    },
    "tags": []
   },
   "outputs": [
    {
     "name": "stdout",
     "output_type": "stream",
     "text": [
      "Pearson Correlation Coeficient Validation Data:  0.1272356237253427\n"
     ]
    }
   ],
   "source": [
    "corr, _ = pearsonr(y_val_hat, y_val)\n",
    "print(\"Pearson Correlation Coeficient Validation Data: \", corr)"
   ]
  },
  {
   "cell_type": "code",
   "execution_count": 24,
   "id": "94aa8cc2",
   "metadata": {
    "execution": {
     "iopub.execute_input": "2022-03-05T10:36:13.150108Z",
     "iopub.status.busy": "2022-03-05T10:36:13.149015Z",
     "iopub.status.idle": "2022-03-05T10:36:13.160607Z",
     "shell.execute_reply": "2022-03-05T10:36:13.159797Z",
     "shell.execute_reply.started": "2022-03-05T07:04:32.86557Z"
    },
    "papermill": {
     "duration": 0.146904,
     "end_time": "2022-03-05T10:36:13.160753",
     "exception": false,
     "start_time": "2022-03-05T10:36:13.013849",
     "status": "completed"
    },
    "tags": []
   },
   "outputs": [],
   "source": [
    "# save model to disk, it will take up approx. 205kB\n",
    "filename = 'finalized_model_reduced.sav'\n",
    "pickle.dump(model, open(filename, 'wb'))"
   ]
  },
  {
   "cell_type": "markdown",
   "id": "596e93c6",
   "metadata": {
    "papermill": {
     "duration": 0.070717,
     "end_time": "2022-03-05T10:36:13.302704",
     "exception": false,
     "start_time": "2022-03-05T10:36:13.231987",
     "status": "completed"
    },
    "tags": []
   },
   "source": [
    "## 6. API Submission"
   ]
  },
  {
   "cell_type": "markdown",
   "id": "029d0be2",
   "metadata": {
    "papermill": {
     "duration": 0.069362,
     "end_time": "2022-03-05T10:36:13.441858",
     "exception": false,
     "start_time": "2022-03-05T10:36:13.372496",
     "status": "completed"
    },
    "tags": []
   },
   "source": [
    "This section preprocesses the test set from the API and makes predictions from the trained model."
   ]
  },
  {
   "cell_type": "code",
   "execution_count": 25,
   "id": "0fd97e61",
   "metadata": {
    "execution": {
     "iopub.execute_input": "2022-03-05T10:36:13.593533Z",
     "iopub.status.busy": "2022-03-05T10:36:13.592517Z",
     "iopub.status.idle": "2022-03-05T10:36:13.595821Z",
     "shell.execute_reply": "2022-03-05T10:36:13.595287Z",
     "shell.execute_reply.started": "2022-02-23T13:41:22.043235Z"
    },
    "papermill": {
     "duration": 0.082258,
     "end_time": "2022-03-05T10:36:13.595967",
     "exception": false,
     "start_time": "2022-03-05T10:36:13.513709",
     "status": "completed"
    },
    "tags": []
   },
   "outputs": [],
   "source": [
    "def preprocess(df, features):\n",
    "    \n",
    "    \n",
    "    \"\"\" Function to select features from a given dataset. \n",
    "\n",
    "    Parameters\n",
    "    ----------\n",
    "    \n",
    "    df: dataframe to be subset\n",
    "    \n",
    "    features: A list of features to be selected from dataframe\n",
    "\n",
    "    \n",
    "    Returns\n",
    "    -------\n",
    "    df : A filtered dataframe with list of features specified.\n",
    "    \n",
    "    \"\"\"\n",
    "    \n",
    "    df = df[features]  \n",
    "    return df\n",
    "    \n",
    "def make_predictions(model, df): \n",
    "    \n",
    "        \n",
    "    \"\"\" Function to make predictions on a given dataset. \n",
    "\n",
    "    Parameters\n",
    "    ----------\n",
    "    \n",
    "    model: A pre-trained model.\n",
    "    \n",
    "    df: Dataframe with independent features for prediction.\n",
    "\n",
    "    \n",
    "    Returns\n",
    "    -------\n",
    "    pred : An array of predicted values for the data points\n",
    "    \n",
    "    \"\"\"\n",
    "    pred = model.predict(df)\n",
    "    return pred"
   ]
  },
  {
   "cell_type": "markdown",
   "id": "b10c134e",
   "metadata": {
    "papermill": {
     "duration": 0.069843,
     "end_time": "2022-03-05T10:36:13.736410",
     "exception": false,
     "start_time": "2022-03-05T10:36:13.666567",
     "status": "completed"
    },
    "tags": []
   },
   "source": [
    "Call Kaggle API for test_set serving."
   ]
  },
  {
   "cell_type": "code",
   "execution_count": 26,
   "id": "1fe40999",
   "metadata": {
    "execution": {
     "iopub.execute_input": "2022-03-05T10:36:13.884408Z",
     "iopub.status.busy": "2022-03-05T10:36:13.883523Z",
     "iopub.status.idle": "2022-03-05T10:36:13.991888Z",
     "shell.execute_reply": "2022-03-05T10:36:13.990706Z",
     "shell.execute_reply.started": "2022-02-23T13:41:26.410378Z"
    },
    "papermill": {
     "duration": 0.185757,
     "end_time": "2022-03-05T10:36:13.992098",
     "exception": false,
     "start_time": "2022-03-05T10:36:13.806341",
     "status": "completed"
    },
    "tags": []
   },
   "outputs": [
    {
     "name": "stdout",
     "output_type": "stream",
     "text": [
      "This version of the API is not optimized and should not be used to estimate the runtime of your code on the hidden test set.\n"
     ]
    }
   ],
   "source": [
    "import ubiquant\n",
    "env = ubiquant.make_env()   # initialize the environment\n",
    "iter_test = env.iter_test()    # an iterator which loops over the test set and sample submission\n",
    "for (test_df, sample_prediction_df) in iter_test:\n",
    "    test_df = preprocess(test_df, new_feature_list) \n",
    "    sample_prediction_df['target'] = make_predictions(model, test_df)  # make your predictions here\n",
    "    env.predict(sample_prediction_df)   # register your predictions"
   ]
  },
  {
   "cell_type": "markdown",
   "id": "10378add",
   "metadata": {
    "papermill": {
     "duration": 0.070909,
     "end_time": "2022-03-05T10:36:14.135583",
     "exception": false,
     "start_time": "2022-03-05T10:36:14.064674",
     "status": "completed"
    },
    "tags": []
   },
   "source": [
    "## 8. Evaluation"
   ]
  },
  {
   "cell_type": "markdown",
   "id": "a3dc96a8",
   "metadata": {
    "execution": {
     "iopub.execute_input": "2022-03-05T07:39:02.762845Z",
     "iopub.status.busy": "2022-03-05T07:39:02.762528Z",
     "iopub.status.idle": "2022-03-05T07:39:02.792281Z",
     "shell.execute_reply": "2022-03-05T07:39:02.791463Z",
     "shell.execute_reply.started": "2022-03-05T07:39:02.762766Z"
    },
    "papermill": {
     "duration": 0.070976,
     "end_time": "2022-03-05T10:36:14.277436",
     "exception": false,
     "start_time": "2022-03-05T10:36:14.206460",
     "status": "completed"
    },
    "tags": []
   },
   "source": [
    "There seems to be a small but not significant improvement in model importance between the model with full feature set and model with fewer features (188) as can be seen in the table below.\n",
    "\n",
    "|Model| |Independent-Features||MAE| |MSE| |Pearson-corr|\n",
    "|-----| |--------------------||---| |---| |------------|\n",
    "|300 Feature Model| |300||0.8055||0.8975||0.1260|\n",
    "|188 Feature Model| |188||0.8052||0.8973||0.1272|"
   ]
  },
  {
   "cell_type": "markdown",
   "id": "3fa9d6c7",
   "metadata": {
    "papermill": {
     "duration": 0.070409,
     "end_time": "2022-03-05T10:36:14.419470",
     "exception": false,
     "start_time": "2022-03-05T10:36:14.349061",
     "status": "completed"
    },
    "tags": []
   },
   "source": [
    "**The model resulted in a submission score of 0.108 on kaggle**"
   ]
  },
  {
   "cell_type": "markdown",
   "id": "eb7232f2",
   "metadata": {
    "papermill": {
     "duration": 0.072602,
     "end_time": "2022-03-05T10:36:14.562515",
     "exception": false,
     "start_time": "2022-03-05T10:36:14.489913",
     "status": "completed"
    },
    "tags": []
   },
   "source": [
    "# Conclusion"
   ]
  },
  {
   "cell_type": "markdown",
   "id": "3777bfbe",
   "metadata": {
    "papermill": {
     "duration": 0.071103,
     "end_time": "2022-03-05T10:36:14.704686",
     "exception": false,
     "start_time": "2022-03-05T10:36:14.633583",
     "status": "completed"
    },
    "tags": []
   },
   "source": [
    "The multi input neural network model has a higher perfomance hence more time will be spent developing it"
   ]
  },
  {
   "cell_type": "code",
   "execution_count": null,
   "id": "73302497",
   "metadata": {
    "papermill": {
     "duration": 0.074694,
     "end_time": "2022-03-05T10:36:14.851190",
     "exception": false,
     "start_time": "2022-03-05T10:36:14.776496",
     "status": "completed"
    },
    "tags": []
   },
   "outputs": [],
   "source": []
  },
  {
   "cell_type": "code",
   "execution_count": null,
   "id": "94ecc198",
   "metadata": {
    "papermill": {
     "duration": 0.070091,
     "end_time": "2022-03-05T10:36:14.992498",
     "exception": false,
     "start_time": "2022-03-05T10:36:14.922407",
     "status": "completed"
    },
    "tags": []
   },
   "outputs": [],
   "source": []
  }
 ],
 "metadata": {
  "kernelspec": {
   "display_name": "Python 3",
   "language": "python",
   "name": "python3"
  },
  "language_info": {
   "codemirror_mode": {
    "name": "ipython",
    "version": 3
   },
   "file_extension": ".py",
   "mimetype": "text/x-python",
   "name": "python",
   "nbconvert_exporter": "python",
   "pygments_lexer": "ipython3",
   "version": "3.7.12"
  },
  "papermill": {
   "default_parameters": {},
   "duration": 706.9014,
   "end_time": "2022-03-05T10:36:16.681765",
   "environment_variables": {},
   "exception": null,
   "input_path": "__notebook__.ipynb",
   "output_path": "__notebook__.ipynb",
   "parameters": {},
   "start_time": "2022-03-05T10:24:29.780365",
   "version": "2.3.3"
  }
 },
 "nbformat": 4,
 "nbformat_minor": 5
}
