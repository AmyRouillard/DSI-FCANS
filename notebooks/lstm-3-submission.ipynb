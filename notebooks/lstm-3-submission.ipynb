{
 "cells": [
  {
   "cell_type": "markdown",
   "id": "10ef1d56",
   "metadata": {
    "papermill": {
     "duration": 0.006272,
     "end_time": "2022-03-05T10:19:58.252431",
     "exception": false,
     "start_time": "2022-03-05T10:19:58.246159",
     "status": "completed"
    },
    "tags": []
   },
   "source": [
    "# 🏆 Submission\n",
    "\n",
    "## Load libraries, models, metadata and clusting information"
   ]
  },
  {
   "cell_type": "code",
   "execution_count": 1,
   "id": "c6bc1941",
   "metadata": {
    "_cell_guid": "b1076dfc-b9ad-4769-8c92-a6c4dae69d19",
    "_uuid": "8f2839f25d086af736a60e9eeb907d3b93b6e0e5",
    "execution": {
     "iopub.execute_input": "2022-03-05T10:19:58.270030Z",
     "iopub.status.busy": "2022-03-05T10:19:58.268449Z",
     "iopub.status.idle": "2022-03-05T10:20:09.069540Z",
     "shell.execute_reply": "2022-03-05T10:20:09.068705Z",
     "shell.execute_reply.started": "2022-03-01T16:54:17.733481Z"
    },
    "papermill": {
     "duration": 10.809738,
     "end_time": "2022-03-05T10:20:09.069728",
     "exception": false,
     "start_time": "2022-03-05T10:19:58.259990",
     "status": "completed"
    },
    "tags": []
   },
   "outputs": [
    {
     "name": "stderr",
     "output_type": "stream",
     "text": [
      "2022-03-05 10:20:05.605217: I tensorflow/core/common_runtime/process_util.cc:146] Creating new thread pool with default inter op setting: 2. Tune using inter_op_parallelism_threads for best performance.\n"
     ]
    }
   ],
   "source": [
    "import pandas as pd\n",
    "import numpy as np\n",
    "from tensorflow import keras\n",
    "\n",
    "model1 = keras.models.load_model('../input/modelv1-cluster1of2/Model')\n",
    "model2 = keras.models.load_model('../input/modelv1-cluster2of2/Model')\n",
    "\n",
    "df_clusters = pd.read_parquet('../input/2-clusters/2_cluster.parquet')\n",
    "df_clusters = df_clusters.set_index('investment_id').T.to_dict('list')\n",
    "\n",
    "\n",
    "metadata = pd.read_parquet('../input/metadata/metadata')"
   ]
  },
  {
   "cell_type": "markdown",
   "id": "f87497f4",
   "metadata": {
    "papermill": {
     "duration": 0.008383,
     "end_time": "2022-03-05T10:20:09.085089",
     "exception": false,
     "start_time": "2022-03-05T10:20:09.076706",
     "status": "completed"
    },
    "tags": []
   },
   "source": [
    "## Load competition enviroment"
   ]
  },
  {
   "cell_type": "code",
   "execution_count": 2,
   "id": "b3a43f32",
   "metadata": {
    "execution": {
     "iopub.execute_input": "2022-03-05T10:20:09.106786Z",
     "iopub.status.busy": "2022-03-05T10:20:09.104215Z",
     "iopub.status.idle": "2022-03-05T10:20:09.129284Z",
     "shell.execute_reply": "2022-03-05T10:20:09.130143Z",
     "shell.execute_reply.started": "2022-03-01T16:54:27.808388Z"
    },
    "papermill": {
     "duration": 0.03621,
     "end_time": "2022-03-05T10:20:09.130416",
     "exception": false,
     "start_time": "2022-03-05T10:20:09.094206",
     "status": "completed"
    },
    "tags": []
   },
   "outputs": [],
   "source": [
    "import ubiquant\n",
    "env = ubiquant.make_env()  \n",
    "iter_test = env.iter_test()"
   ]
  },
  {
   "cell_type": "markdown",
   "id": "8a5f7070",
   "metadata": {
    "papermill": {
     "duration": 0.00849,
     "end_time": "2022-03-05T10:20:09.147951",
     "exception": false,
     "start_time": "2022-03-05T10:20:09.139461",
     "status": "completed"
    },
    "tags": []
   },
   "source": [
    "## Loop over test data and provide preditions\n",
    "Models selected based on which cluster it belongs to."
   ]
  },
  {
   "cell_type": "code",
   "execution_count": 3,
   "id": "637ec087",
   "metadata": {
    "execution": {
     "iopub.execute_input": "2022-03-05T10:20:09.173130Z",
     "iopub.status.busy": "2022-03-05T10:20:09.172137Z",
     "iopub.status.idle": "2022-03-05T10:20:12.627125Z",
     "shell.execute_reply": "2022-03-05T10:20:12.626505Z",
     "shell.execute_reply.started": "2022-03-01T16:54:27.895194Z"
    },
    "papermill": {
     "duration": 3.466651,
     "end_time": "2022-03-05T10:20:12.627303",
     "exception": false,
     "start_time": "2022-03-05T10:20:09.160652",
     "status": "completed"
    },
    "tags": []
   },
   "outputs": [
    {
     "name": "stdout",
     "output_type": "stream",
     "text": [
      "This version of the API is not optimized and should not be used to estimate the runtime of your code on the hidden test set.\n"
     ]
    },
    {
     "name": "stderr",
     "output_type": "stream",
     "text": [
      "2022-03-05 10:20:09.731028: I tensorflow/compiler/mlir/mlir_graph_optimization_pass.cc:185] None of the MLIR Optimization Passes are enabled (registered 2)\n"
     ]
    }
   ],
   "source": [
    "for (test_df, sample_prediction_df) in iter_test:\n",
    "\n",
    "    for i in range(300):\n",
    "        test_df[['f_'+str(i)]] = test_df[['f_'+str(i)]].subtract(metadata['mean'][i])\n",
    "        test_df[['f_'+str(i)]] = test_df[['f_'+str(i)]]/(metadata['std'][i] + 1e-12)\n",
    "    \n",
    "    test_df[['time_id','inv_id']] = test_df.row_id.str.split(\"_\",expand=True)\n",
    "    test_df = test_df.set_index(['investment_id','time_id'])\n",
    "    test_df = test_df.drop(['row_id','inv_id'],axis = 1)\n",
    "    \n",
    "    inv_id = test_df.index.levels[0]\n",
    "    \n",
    "    test = [test_df.loc[investment].values for investment in inv_id]\n",
    "    test = np.array(test, dtype=np.float32)\n",
    "    \n",
    "    \n",
    "    pred1 = model1.predict(test)\n",
    "    pred2 = model2.predict(test)\n",
    "    \n",
    "#     pred2 = np.reshape(pred2,len(test_df))\n",
    "#     sample_prediction_df['target'] = pred2\n",
    "\n",
    "    inv_count = 0\n",
    "    for investment in test_df.index.levels[0]:\n",
    "\n",
    "        time_ids = test_df.loc[investment].index\n",
    "\n",
    "        for index in range(test.shape[1]):  \n",
    "            row_id = time_ids[index]+'_'+str(investment)\n",
    "\n",
    "            for j in sample_prediction_df.index[sample_prediction_df['row_id']==row_id]:\n",
    "                \n",
    "                if df_clusters[int(investment)][0]==1:\n",
    "                    sample_prediction_df.loc[j,('target')] = pred1[inv_count][index][0].astype(float)\n",
    "                else:\n",
    "                    sample_prediction_df.loc[j,('target')] = pred2[inv_count][index][0].astype(float)\n",
    "\n",
    "        inv_count=+1\n",
    "        \n",
    "    env.predict(sample_prediction_df)"
   ]
  }
 ],
 "metadata": {
  "kernelspec": {
   "display_name": "Python 3",
   "language": "python",
   "name": "python3"
  },
  "language_info": {
   "codemirror_mode": {
    "name": "ipython",
    "version": 3
   },
   "file_extension": ".py",
   "mimetype": "text/x-python",
   "name": "python",
   "nbconvert_exporter": "python",
   "pygments_lexer": "ipython3",
   "version": "3.7.12"
  },
  "papermill": {
   "default_parameters": {},
   "duration": 27.707692,
   "end_time": "2022-03-05T10:20:16.119719",
   "environment_variables": {},
   "exception": null,
   "input_path": "__notebook__.ipynb",
   "output_path": "__notebook__.ipynb",
   "parameters": {},
   "start_time": "2022-03-05T10:19:48.412027",
   "version": "2.3.3"
  }
 },
 "nbformat": 4,
 "nbformat_minor": 5
}
