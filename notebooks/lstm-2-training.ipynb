{
 "cells": [
  {
   "cell_type": "markdown",
   "id": "02c4c879",
   "metadata": {
    "papermill": {
     "duration": 0.025917,
     "end_time": "2022-03-05T10:16:26.097283",
     "exception": false,
     "start_time": "2022-03-05T10:16:26.071366",
     "status": "completed"
    },
    "tags": []
   },
   "source": [
    "# 🏃‍♀️🏃‍♂️ Training\n",
    "\n",
    "## Load libraries"
   ]
  },
  {
   "cell_type": "code",
   "execution_count": 1,
   "id": "36f896ff",
   "metadata": {
    "execution": {
     "iopub.execute_input": "2022-03-05T10:16:26.151292Z",
     "iopub.status.busy": "2022-03-05T10:16:26.149972Z",
     "iopub.status.idle": "2022-03-05T10:16:27.194845Z",
     "shell.execute_reply": "2022-03-05T10:16:27.194050Z",
     "shell.execute_reply.started": "2022-03-05T10:02:56.649702Z"
    },
    "papermill": {
     "duration": 1.071337,
     "end_time": "2022-03-05T10:16:27.195013",
     "exception": false,
     "start_time": "2022-03-05T10:16:26.123676",
     "status": "completed"
    },
    "tags": []
   },
   "outputs": [],
   "source": [
    "import numpy as np\n",
    "import pandas as pd \n",
    "import matplotlib.pyplot as plt\n",
    "import seaborn as sns\n",
    "from tqdm import tqdm\n",
    "import os\n",
    "import random"
   ]
  },
  {
   "cell_type": "markdown",
   "id": "9153540e",
   "metadata": {
    "papermill": {
     "duration": 0.023768,
     "end_time": "2022-03-05T10:16:27.243354",
     "exception": false,
     "start_time": "2022-03-05T10:16:27.219586",
     "status": "completed"
    },
    "tags": []
   },
   "source": [
    "## Load cluster information and select a cluster for training"
   ]
  },
  {
   "cell_type": "code",
   "execution_count": 2,
   "id": "d3f6016f",
   "metadata": {
    "execution": {
     "iopub.execute_input": "2022-03-05T10:16:27.296914Z",
     "iopub.status.busy": "2022-03-05T10:16:27.296264Z",
     "iopub.status.idle": "2022-03-05T10:16:27.298172Z",
     "shell.execute_reply": "2022-03-05T10:16:27.298707Z",
     "shell.execute_reply.started": "2022-03-05T10:02:57.844731Z"
    },
    "papermill": {
     "duration": 0.029926,
     "end_time": "2022-03-05T10:16:27.298876",
     "exception": false,
     "start_time": "2022-03-05T10:16:27.268950",
     "status": "completed"
    },
    "tags": []
   },
   "outputs": [],
   "source": [
    "folder_path = '../input/ubiquantfilledv1cluster2of2/'\n",
    "current_cluster = 2"
   ]
  },
  {
   "cell_type": "markdown",
   "id": "6c649cd5",
   "metadata": {
    "papermill": {
     "duration": 0.022432,
     "end_time": "2022-03-05T10:16:27.344919",
     "exception": false,
     "start_time": "2022-03-05T10:16:27.322487",
     "status": "completed"
    },
    "tags": []
   },
   "source": [
    "## Load training, validation and test datasets"
   ]
  },
  {
   "cell_type": "code",
   "execution_count": 3,
   "id": "3706f0bd",
   "metadata": {
    "execution": {
     "iopub.execute_input": "2022-03-05T10:16:27.394510Z",
     "iopub.status.busy": "2022-03-05T10:16:27.393800Z",
     "iopub.status.idle": "2022-03-05T10:16:29.257992Z",
     "shell.execute_reply": "2022-03-05T10:16:29.257363Z",
     "shell.execute_reply.started": "2022-03-05T10:02:57.852925Z"
    },
    "papermill": {
     "duration": 1.889648,
     "end_time": "2022-03-05T10:16:29.258211",
     "exception": false,
     "start_time": "2022-03-05T10:16:27.368563",
     "status": "completed"
    },
    "tags": []
   },
   "outputs": [],
   "source": [
    "X_train = pd.read_parquet(folder_path+'X_train.parquet')\n",
    "X_valid = pd.read_parquet(folder_path+'X_valid.parquet')\n",
    "X_test  = pd.read_parquet(folder_path+'X_test.parquet')\n",
    "\n",
    "y_train = pd.read_parquet(folder_path+'y_train.parquet')\n",
    "y_valid = pd.read_parquet(folder_path+'y_valid.parquet')\n",
    "y_test  = pd.read_parquet(folder_path+'y_test.parquet')"
   ]
  },
  {
   "cell_type": "markdown",
   "id": "0fc9c026",
   "metadata": {
    "papermill": {
     "duration": 0.022556,
     "end_time": "2022-03-05T10:16:29.305315",
     "exception": false,
     "start_time": "2022-03-05T10:16:29.282759",
     "status": "completed"
    },
    "tags": []
   },
   "source": [
    "## Set the investment and time IDs as indices"
   ]
  },
  {
   "cell_type": "code",
   "execution_count": 4,
   "id": "153366d4",
   "metadata": {
    "execution": {
     "iopub.execute_input": "2022-03-05T10:16:29.357888Z",
     "iopub.status.busy": "2022-03-05T10:16:29.356619Z",
     "iopub.status.idle": "2022-03-05T10:16:29.416147Z",
     "shell.execute_reply": "2022-03-05T10:16:29.415462Z",
     "shell.execute_reply.started": "2022-03-05T10:03:00.084247Z"
    },
    "papermill": {
     "duration": 0.087241,
     "end_time": "2022-03-05T10:16:29.416405",
     "exception": false,
     "start_time": "2022-03-05T10:16:29.329164",
     "status": "completed"
    },
    "tags": []
   },
   "outputs": [],
   "source": [
    "X_train = X_train.set_index(['investment_id','time_id'])\n",
    "y_train = y_train.set_index(['investment_id','time_id'])\n",
    "\n",
    "X_valid = X_valid.set_index(['investment_id','time_id'])\n",
    "y_valid = y_valid.set_index(['investment_id','time_id'])"
   ]
  },
  {
   "cell_type": "code",
   "execution_count": 5,
   "id": "e1aacc00",
   "metadata": {
    "execution": {
     "iopub.execute_input": "2022-03-05T10:16:29.473671Z",
     "iopub.status.busy": "2022-03-05T10:16:29.472904Z",
     "iopub.status.idle": "2022-03-05T10:16:29.500572Z",
     "shell.execute_reply": "2022-03-05T10:16:29.501095Z",
     "shell.execute_reply.started": "2022-03-05T10:03:00.131903Z"
    },
    "papermill": {
     "duration": 0.060549,
     "end_time": "2022-03-05T10:16:29.501314",
     "exception": false,
     "start_time": "2022-03-05T10:16:29.440765",
     "status": "completed"
    },
    "tags": []
   },
   "outputs": [
    {
     "data": {
      "text/html": [
       "<div>\n",
       "<style scoped>\n",
       "    .dataframe tbody tr th:only-of-type {\n",
       "        vertical-align: middle;\n",
       "    }\n",
       "\n",
       "    .dataframe tbody tr th {\n",
       "        vertical-align: top;\n",
       "    }\n",
       "\n",
       "    .dataframe thead th {\n",
       "        text-align: right;\n",
       "    }\n",
       "</style>\n",
       "<table border=\"1\" class=\"dataframe\">\n",
       "  <thead>\n",
       "    <tr style=\"text-align: right;\">\n",
       "      <th></th>\n",
       "      <th></th>\n",
       "      <th>f_1</th>\n",
       "      <th>f_2</th>\n",
       "      <th>f_3</th>\n",
       "      <th>f_4</th>\n",
       "      <th>f_5</th>\n",
       "      <th>f_6</th>\n",
       "      <th>f_7</th>\n",
       "      <th>f_8</th>\n",
       "      <th>f_9</th>\n",
       "      <th>f_10</th>\n",
       "      <th>...</th>\n",
       "      <th>f_291</th>\n",
       "      <th>f_292</th>\n",
       "      <th>f_293</th>\n",
       "      <th>f_294</th>\n",
       "      <th>f_295</th>\n",
       "      <th>f_296</th>\n",
       "      <th>f_297</th>\n",
       "      <th>f_298</th>\n",
       "      <th>f_299</th>\n",
       "      <th>f_300</th>\n",
       "    </tr>\n",
       "    <tr>\n",
       "      <th>investment_id</th>\n",
       "      <th>time_id</th>\n",
       "      <th></th>\n",
       "      <th></th>\n",
       "      <th></th>\n",
       "      <th></th>\n",
       "      <th></th>\n",
       "      <th></th>\n",
       "      <th></th>\n",
       "      <th></th>\n",
       "      <th></th>\n",
       "      <th></th>\n",
       "      <th></th>\n",
       "      <th></th>\n",
       "      <th></th>\n",
       "      <th></th>\n",
       "      <th></th>\n",
       "      <th></th>\n",
       "      <th></th>\n",
       "      <th></th>\n",
       "      <th></th>\n",
       "      <th></th>\n",
       "      <th></th>\n",
       "    </tr>\n",
       "  </thead>\n",
       "  <tbody>\n",
       "    <tr>\n",
       "      <th rowspan=\"5\" valign=\"top\">1</th>\n",
       "      <th>1190</th>\n",
       "      <td>0.117441</td>\n",
       "      <td>1.336057</td>\n",
       "      <td>0.200028</td>\n",
       "      <td>-0.200948</td>\n",
       "      <td>-0.145147</td>\n",
       "      <td>-0.002968</td>\n",
       "      <td>-0.565976</td>\n",
       "      <td>2.336890</td>\n",
       "      <td>0.115572</td>\n",
       "      <td>-0.967807</td>\n",
       "      <td>...</td>\n",
       "      <td>0.539658</td>\n",
       "      <td>0.170628</td>\n",
       "      <td>0.449091</td>\n",
       "      <td>0.635751</td>\n",
       "      <td>0.947428</td>\n",
       "      <td>-0.450420</td>\n",
       "      <td>-0.215100</td>\n",
       "      <td>-0.855532</td>\n",
       "      <td>-1.929326</td>\n",
       "      <td>-0.299557</td>\n",
       "    </tr>\n",
       "    <tr>\n",
       "      <th>1191</th>\n",
       "      <td>0.304520</td>\n",
       "      <td>0.609152</td>\n",
       "      <td>0.857534</td>\n",
       "      <td>-0.808235</td>\n",
       "      <td>-0.163414</td>\n",
       "      <td>0.862686</td>\n",
       "      <td>-0.825024</td>\n",
       "      <td>2.220720</td>\n",
       "      <td>0.097664</td>\n",
       "      <td>0.275766</td>\n",
       "      <td>...</td>\n",
       "      <td>0.514438</td>\n",
       "      <td>0.545874</td>\n",
       "      <td>3.543956</td>\n",
       "      <td>0.826021</td>\n",
       "      <td>1.163362</td>\n",
       "      <td>-0.473317</td>\n",
       "      <td>-1.023344</td>\n",
       "      <td>-0.898323</td>\n",
       "      <td>-1.619835</td>\n",
       "      <td>-0.255787</td>\n",
       "    </tr>\n",
       "    <tr>\n",
       "      <th>1192</th>\n",
       "      <td>1.015338</td>\n",
       "      <td>-0.086064</td>\n",
       "      <td>0.772946</td>\n",
       "      <td>-1.024464</td>\n",
       "      <td>-0.170060</td>\n",
       "      <td>0.809992</td>\n",
       "      <td>-1.356128</td>\n",
       "      <td>1.833257</td>\n",
       "      <td>0.110023</td>\n",
       "      <td>0.597113</td>\n",
       "      <td>...</td>\n",
       "      <td>0.429429</td>\n",
       "      <td>0.939174</td>\n",
       "      <td>1.896151</td>\n",
       "      <td>-0.419295</td>\n",
       "      <td>0.726514</td>\n",
       "      <td>-0.328875</td>\n",
       "      <td>-1.003616</td>\n",
       "      <td>0.789994</td>\n",
       "      <td>-0.555073</td>\n",
       "      <td>-0.252515</td>\n",
       "    </tr>\n",
       "    <tr>\n",
       "      <th>1193</th>\n",
       "      <td>1.221100</td>\n",
       "      <td>-0.113554</td>\n",
       "      <td>0.801877</td>\n",
       "      <td>-0.771375</td>\n",
       "      <td>-0.154667</td>\n",
       "      <td>0.898420</td>\n",
       "      <td>-1.635045</td>\n",
       "      <td>1.925350</td>\n",
       "      <td>0.194681</td>\n",
       "      <td>-1.619376</td>\n",
       "      <td>...</td>\n",
       "      <td>0.204661</td>\n",
       "      <td>1.627842</td>\n",
       "      <td>-0.622924</td>\n",
       "      <td>0.001814</td>\n",
       "      <td>-1.291100</td>\n",
       "      <td>-0.698850</td>\n",
       "      <td>0.028365</td>\n",
       "      <td>0.799687</td>\n",
       "      <td>-0.774808</td>\n",
       "      <td>-0.419649</td>\n",
       "    </tr>\n",
       "    <tr>\n",
       "      <th>1194</th>\n",
       "      <td>1.564061</td>\n",
       "      <td>-0.219084</td>\n",
       "      <td>0.784532</td>\n",
       "      <td>-0.957565</td>\n",
       "      <td>-0.145679</td>\n",
       "      <td>0.346137</td>\n",
       "      <td>-1.619898</td>\n",
       "      <td>2.104507</td>\n",
       "      <td>0.105881</td>\n",
       "      <td>-0.047761</td>\n",
       "      <td>...</td>\n",
       "      <td>-0.030007</td>\n",
       "      <td>0.860971</td>\n",
       "      <td>-0.614518</td>\n",
       "      <td>-1.040945</td>\n",
       "      <td>1.300449</td>\n",
       "      <td>-0.531210</td>\n",
       "      <td>-0.321624</td>\n",
       "      <td>0.289998</td>\n",
       "      <td>-0.814158</td>\n",
       "      <td>-0.401237</td>\n",
       "    </tr>\n",
       "  </tbody>\n",
       "</table>\n",
       "<p>5 rows × 300 columns</p>\n",
       "</div>"
      ],
      "text/plain": [
       "                            f_1       f_2       f_3       f_4       f_5  \\\n",
       "investment_id time_id                                                     \n",
       "1             1190     0.117441  1.336057  0.200028 -0.200948 -0.145147   \n",
       "              1191     0.304520  0.609152  0.857534 -0.808235 -0.163414   \n",
       "              1192     1.015338 -0.086064  0.772946 -1.024464 -0.170060   \n",
       "              1193     1.221100 -0.113554  0.801877 -0.771375 -0.154667   \n",
       "              1194     1.564061 -0.219084  0.784532 -0.957565 -0.145679   \n",
       "\n",
       "                            f_6       f_7       f_8       f_9      f_10  ...  \\\n",
       "investment_id time_id                                                    ...   \n",
       "1             1190    -0.002968 -0.565976  2.336890  0.115572 -0.967807  ...   \n",
       "              1191     0.862686 -0.825024  2.220720  0.097664  0.275766  ...   \n",
       "              1192     0.809992 -1.356128  1.833257  0.110023  0.597113  ...   \n",
       "              1193     0.898420 -1.635045  1.925350  0.194681 -1.619376  ...   \n",
       "              1194     0.346137 -1.619898  2.104507  0.105881 -0.047761  ...   \n",
       "\n",
       "                          f_291     f_292     f_293     f_294     f_295  \\\n",
       "investment_id time_id                                                     \n",
       "1             1190     0.539658  0.170628  0.449091  0.635751  0.947428   \n",
       "              1191     0.514438  0.545874  3.543956  0.826021  1.163362   \n",
       "              1192     0.429429  0.939174  1.896151 -0.419295  0.726514   \n",
       "              1193     0.204661  1.627842 -0.622924  0.001814 -1.291100   \n",
       "              1194    -0.030007  0.860971 -0.614518 -1.040945  1.300449   \n",
       "\n",
       "                          f_296     f_297     f_298     f_299     f_300  \n",
       "investment_id time_id                                                    \n",
       "1             1190    -0.450420 -0.215100 -0.855532 -1.929326 -0.299557  \n",
       "              1191    -0.473317 -1.023344 -0.898323 -1.619835 -0.255787  \n",
       "              1192    -0.328875 -1.003616  0.789994 -0.555073 -0.252515  \n",
       "              1193    -0.698850  0.028365  0.799687 -0.774808 -0.419649  \n",
       "              1194    -0.531210 -0.321624  0.289998 -0.814158 -0.401237  \n",
       "\n",
       "[5 rows x 300 columns]"
      ]
     },
     "execution_count": 5,
     "metadata": {},
     "output_type": "execute_result"
    }
   ],
   "source": [
    "X_train.head()"
   ]
  },
  {
   "cell_type": "code",
   "execution_count": 6,
   "id": "0ea10bc8",
   "metadata": {
    "execution": {
     "iopub.execute_input": "2022-03-05T10:16:29.557326Z",
     "iopub.status.busy": "2022-03-05T10:16:29.556394Z",
     "iopub.status.idle": "2022-03-05T10:16:29.560892Z",
     "shell.execute_reply": "2022-03-05T10:16:29.560345Z",
     "shell.execute_reply.started": "2022-03-05T10:03:00.173294Z"
    },
    "papermill": {
     "duration": 0.035239,
     "end_time": "2022-03-05T10:16:29.561032",
     "exception": false,
     "start_time": "2022-03-05T10:16:29.525793",
     "status": "completed"
    },
    "tags": []
   },
   "outputs": [
    {
     "data": {
      "text/plain": [
       "Index(['f_1', 'f_2', 'f_3', 'f_4', 'f_5', 'f_6', 'f_7', 'f_8', 'f_9', 'f_10',\n",
       "       ...\n",
       "       'f_291', 'f_292', 'f_293', 'f_294', 'f_295', 'f_296', 'f_297', 'f_298',\n",
       "       'f_299', 'f_300'],\n",
       "      dtype='object', length=300)"
      ]
     },
     "execution_count": 6,
     "metadata": {},
     "output_type": "execute_result"
    }
   ],
   "source": [
    "X_train.columns"
   ]
  },
  {
   "cell_type": "markdown",
   "id": "24a25666",
   "metadata": {
    "papermill": {
     "duration": 0.02491,
     "end_time": "2022-03-05T10:16:29.611791",
     "exception": false,
     "start_time": "2022-03-05T10:16:29.586881",
     "status": "completed"
    },
    "tags": []
   },
   "source": [
    "## Prepare the data to be used for training"
   ]
  },
  {
   "cell_type": "code",
   "execution_count": 7,
   "id": "23eaccb8",
   "metadata": {
    "execution": {
     "iopub.execute_input": "2022-03-05T10:16:29.672144Z",
     "iopub.status.busy": "2022-03-05T10:16:29.671408Z",
     "iopub.status.idle": "2022-03-05T10:16:36.987688Z",
     "shell.execute_reply": "2022-03-05T10:16:36.987134Z",
     "shell.execute_reply.started": "2022-03-05T10:07:07.067181Z"
    },
    "papermill": {
     "duration": 7.349961,
     "end_time": "2022-03-05T10:16:36.987843",
     "exception": false,
     "start_time": "2022-03-05T10:16:29.637882",
     "status": "completed"
    },
    "tags": []
   },
   "outputs": [],
   "source": [
    "from tensorflow.keras.preprocessing import sequence\n",
    "\n",
    "# max number of sequence length\n",
    "maxlen = 500\n",
    "\n",
    "# get a list of unique investment IDs\n",
    "trainId = X_train.index.levels[0]\n",
    "validId = X_valid.index.levels[0]\n",
    "\n",
    "# transform the list of sequences to one numpy array\n",
    "# this is for efficient minibatching and GPU computations \n",
    "X_train_new = [X_train.loc[investment].values for investment in trainId]\n",
    "y_train_new = [y_train.loc[investment].values for investment in trainId]\n",
    "\n",
    "X_train_new = np.array(X_train_new, dtype=np.float32)\n",
    "y_train_new = np.array(y_train_new, dtype=np.float32)\n",
    "\n",
    "# repeat for the validation data\n",
    "X_valid_new = [X_valid.loc[investment].values for investment in validId]\n",
    "y_valid_new = [y_valid.loc[investment].values for investment in validId]\n",
    "\n",
    "X_valid_new = np.array(X_valid_new, dtype=np.float32)\n",
    "y_valid_new = np.array(y_valid_new, dtype=np.float32)"
   ]
  },
  {
   "cell_type": "code",
   "execution_count": 8,
   "id": "15209545",
   "metadata": {
    "execution": {
     "iopub.execute_input": "2022-03-05T10:16:37.048577Z",
     "iopub.status.busy": "2022-03-05T10:16:37.047720Z",
     "iopub.status.idle": "2022-03-05T10:16:37.050783Z",
     "shell.execute_reply": "2022-03-05T10:16:37.051332Z",
     "shell.execute_reply.started": "2022-03-05T10:07:13.731358Z"
    },
    "papermill": {
     "duration": 0.037534,
     "end_time": "2022-03-05T10:16:37.051522",
     "exception": false,
     "start_time": "2022-03-05T10:16:37.013988",
     "status": "completed"
    },
    "tags": []
   },
   "outputs": [
    {
     "name": "stdout",
     "output_type": "stream",
     "text": [
      "X_train shape: (1123, 30, 300) | y_train shape: (1123, 30, 1)\n",
      "X_valid shape: (321, 30, 300) | y_valid shape: (321, 30, 1)\n"
     ]
    }
   ],
   "source": [
    "# print the shape of the array which will be used by the network\n",
    "# the shape is of the form (# of investments, length of sequence, # of features)\n",
    "print(\"X_train shape: %s | y_train shape: %s\" % (str(X_train_new.shape), str(y_train_new.shape)))\n",
    "print(\"X_valid shape: %s | y_valid shape: %s\" % (str(X_valid_new.shape), str(y_valid_new.shape)))"
   ]
  },
  {
   "cell_type": "markdown",
   "id": "0d47b1cd",
   "metadata": {
    "papermill": {
     "duration": 0.025943,
     "end_time": "2022-03-05T10:16:37.102543",
     "exception": false,
     "start_time": "2022-03-05T10:16:37.076600",
     "status": "completed"
    },
    "tags": []
   },
   "source": [
    "## Compile “Long Short-Term Memory” model"
   ]
  },
  {
   "cell_type": "code",
   "execution_count": 9,
   "id": "06ee6f74",
   "metadata": {
    "execution": {
     "iopub.execute_input": "2022-03-05T10:16:37.164127Z",
     "iopub.status.busy": "2022-03-05T10:16:37.163152Z",
     "iopub.status.idle": "2022-03-05T10:16:37.538881Z",
     "shell.execute_reply": "2022-03-05T10:16:37.538160Z",
     "shell.execute_reply.started": "2022-02-28T06:09:24.878689Z"
    },
    "papermill": {
     "duration": 0.410455,
     "end_time": "2022-03-05T10:16:37.539032",
     "exception": false,
     "start_time": "2022-03-05T10:16:37.128577",
     "status": "completed"
    },
    "tags": []
   },
   "outputs": [
    {
     "name": "stderr",
     "output_type": "stream",
     "text": [
      "2022-03-05 10:16:37.233157: I tensorflow/core/common_runtime/process_util.cc:146] Creating new thread pool with default inter op setting: 2. Tune using inter_op_parallelism_threads for best performance.\n"
     ]
    },
    {
     "name": "stdout",
     "output_type": "stream",
     "text": [
      "Model: \"model\"\n",
      "_________________________________________________________________\n",
      "Layer (type)                 Output Shape              Param #   \n",
      "=================================================================\n",
      "input (InputLayer)           [(None, None, 300)]       0         \n",
      "_________________________________________________________________\n",
      "input_masked (Masking)       (None, None, 300)         0         \n",
      "_________________________________________________________________\n",
      "lstm1 (LSTM)                 (None, None, 50)          70200     \n",
      "_________________________________________________________________\n",
      "output (TimeDistributed)     (None, None, 1)           51        \n",
      "=================================================================\n",
      "Total params: 70,251\n",
      "Trainable params: 70,251\n",
      "Non-trainable params: 0\n",
      "_________________________________________________________________\n"
     ]
    }
   ],
   "source": [
    "from tensorflow.keras import Input, Model\n",
    "from tensorflow.keras.layers import LSTM, Dense, TimeDistributed, Masking\n",
    "from tensorflow.keras.optimizers import RMSprop\n",
    "\n",
    "# construct inputs\n",
    "x = Input((None, X_train.shape[-1]) , name='input')\n",
    "mask = Masking(0, name='input_masked')(x)\n",
    "\n",
    "# stack LSTMs\n",
    "lstm_kwargs = {'dropout': 0.25, 'recurrent_dropout': 0.1, 'return_sequences': True, 'implementation': 2}\n",
    "lstm1 = LSTM(50, name='lstm1', **lstm_kwargs)(mask)\n",
    "\n",
    "# output: \n",
    "output = TimeDistributed(Dense(1), name='output')(lstm1)\n",
    "model = Model(inputs=x, outputs=output)\n",
    "\n",
    "# compile model\n",
    "optimizer = RMSprop(learning_rate=0.005)\n",
    "model.compile(optimizer=optimizer, loss='binary_crossentropy')\n",
    "\n",
    "# print layer shapes and model parameters\n",
    "model.summary()"
   ]
  },
  {
   "cell_type": "markdown",
   "id": "9349ec12",
   "metadata": {
    "papermill": {
     "duration": 0.026502,
     "end_time": "2022-03-05T10:16:37.592255",
     "exception": false,
     "start_time": "2022-03-05T10:16:37.565753",
     "status": "completed"
    },
    "tags": []
   },
   "source": [
    "## Train model"
   ]
  },
  {
   "cell_type": "code",
   "execution_count": 10,
   "id": "b89ce3f8",
   "metadata": {
    "execution": {
     "iopub.execute_input": "2022-03-05T10:16:37.701245Z",
     "iopub.status.busy": "2022-03-05T10:16:37.700527Z",
     "iopub.status.idle": "2022-03-05T10:19:33.700981Z",
     "shell.execute_reply": "2022-03-05T10:19:33.701716Z",
     "shell.execute_reply.started": "2022-02-28T06:09:25.290494Z"
    },
    "papermill": {
     "duration": 176.084385,
     "end_time": "2022-03-05T10:19:33.701970",
     "exception": false,
     "start_time": "2022-03-05T10:16:37.617585",
     "status": "completed"
    },
    "tags": []
   },
   "outputs": [
    {
     "name": "stderr",
     "output_type": "stream",
     "text": [
      "2022-03-05 10:16:37.760899: I tensorflow/compiler/mlir/mlir_graph_optimization_pass.cc:185] None of the MLIR Optimization Passes are enabled (registered 2)\n"
     ]
    },
    {
     "name": "stdout",
     "output_type": "stream",
     "text": [
      "Epoch 1/5\n",
      "1123/1123 [==============================] - 37s 30ms/step - loss: 0.5663\n",
      "Epoch 2/5\n",
      "1123/1123 [==============================] - 35s 31ms/step - loss: 0.5375\n",
      "Epoch 3/5\n",
      "1123/1123 [==============================] - 36s 32ms/step - loss: 0.5125\n",
      "Epoch 4/5\n",
      "1123/1123 [==============================] - 33s 30ms/step - loss: 0.5364\n",
      "Epoch 5/5\n",
      "1123/1123 [==============================] - 35s 31ms/step - loss: 0.5098\n"
     ]
    }
   ],
   "source": [
    "history = model.fit(X_train_new, y_train_new, batch_size=1, epochs=5, verbose=1)"
   ]
  },
  {
   "cell_type": "markdown",
   "id": "6d80bd56",
   "metadata": {
    "papermill": {
     "duration": 1.095206,
     "end_time": "2022-03-05T10:19:35.893698",
     "exception": false,
     "start_time": "2022-03-05T10:19:34.798492",
     "status": "completed"
    },
    "tags": []
   },
   "source": [
    "## Predict target values for the validation set"
   ]
  },
  {
   "cell_type": "code",
   "execution_count": 11,
   "id": "654a8981",
   "metadata": {
    "execution": {
     "iopub.execute_input": "2022-03-05T10:19:38.082166Z",
     "iopub.status.busy": "2022-03-05T10:19:38.076694Z",
     "iopub.status.idle": "2022-03-05T10:19:38.845866Z",
     "shell.execute_reply": "2022-03-05T10:19:38.846782Z",
     "shell.execute_reply.started": "2022-02-28T06:12:35.578637Z"
    },
    "papermill": {
     "duration": 1.869685,
     "end_time": "2022-03-05T10:19:38.846972",
     "exception": false,
     "start_time": "2022-03-05T10:19:36.977287",
     "status": "completed"
    },
    "tags": []
   },
   "outputs": [
    {
     "name": "stdout",
     "output_type": "stream",
     "text": [
      "(321, 30, 1)\n"
     ]
    }
   ],
   "source": [
    "preds = model.predict(X_valid_new)\n",
    "print(preds.shape)"
   ]
  },
  {
   "cell_type": "code",
   "execution_count": 12,
   "id": "cec7a93e",
   "metadata": {
    "execution": {
     "iopub.execute_input": "2022-03-05T10:19:41.100555Z",
     "iopub.status.busy": "2022-03-05T10:19:41.099893Z",
     "iopub.status.idle": "2022-03-05T10:19:41.650129Z",
     "shell.execute_reply": "2022-03-05T10:19:41.649470Z",
     "shell.execute_reply.started": "2022-02-28T06:12:36.49967Z"
    },
    "papermill": {
     "duration": 1.638142,
     "end_time": "2022-03-05T10:19:41.650273",
     "exception": false,
     "start_time": "2022-03-05T10:19:40.012131",
     "status": "completed"
    },
    "tags": []
   },
   "outputs": [
    {
     "data": {
      "image/png": "[encoded data removed]",
      "text/plain": [
       "<Figure size 432x288 with 2 Axes>"
      ]
     },
     "metadata": {
      "needs_background": "light"
     },
     "output_type": "display_data"
    }
   ],
   "source": [
    "# Choose a random investment to plot\n",
    "ix = random.randint(0,X_valid_new.shape[0]-1)\n",
    "\n",
    "# Plot predictions and true values\n",
    "f, (ax1, ax2) = plt.subplots(2, 1)\n",
    "ax1.plot(preds[ix,:,0])\n",
    "ax2.plot(y_valid_new[ix,:,0])\n",
    "\n",
    "plt.show()\n"
   ]
  },
  {
   "cell_type": "markdown",
   "id": "3be52ce3",
   "metadata": {
    "papermill": {
     "duration": 1.143733,
     "end_time": "2022-03-05T10:19:43.919578",
     "exception": false,
     "start_time": "2022-03-05T10:19:42.775845",
     "status": "completed"
    },
    "tags": []
   },
   "source": [
    "## Plot correlations between true and predicted values"
   ]
  },
  {
   "cell_type": "code",
   "execution_count": 13,
   "id": "5dd7f5c2",
   "metadata": {
    "execution": {
     "iopub.execute_input": "2022-03-05T10:19:46.130688Z",
     "iopub.status.busy": "2022-03-05T10:19:46.129997Z",
     "iopub.status.idle": "2022-03-05T10:19:46.360934Z",
     "shell.execute_reply": "2022-03-05T10:19:46.360388Z",
     "shell.execute_reply.started": "2022-02-28T06:12:37.817289Z"
    },
    "papermill": {
     "duration": 1.327668,
     "end_time": "2022-03-05T10:19:46.361077",
     "exception": false,
     "start_time": "2022-03-05T10:19:45.033409",
     "status": "completed"
    },
    "tags": []
   },
   "outputs": [
    {
     "name": "stdout",
     "output_type": "stream",
     "text": [
      "-0.01639419252031244\n"
     ]
    },
    {
     "data": {
      "image/png": "[encoded data removed]",
      "text/plain": [
       "<Figure size 432x288 with 1 Axes>"
      ]
     },
     "metadata": {
      "needs_background": "light"
     },
     "output_type": "display_data"
    }
   ],
   "source": [
    "corr = []\n",
    "for i in range(preds.shape[0]):\n",
    "    x =np.corrcoef(preds[i,:,0],y_valid_new[i,:,0])\n",
    "    corr.append(x[0][1])\n",
    "    \n",
    "print(np.mean(corr))\n",
    "plt.plot(corr)\n",
    "plt.show()"
   ]
  },
  {
   "cell_type": "markdown",
   "id": "d50c8f9a",
   "metadata": {
    "papermill": {
     "duration": 1.10203,
     "end_time": "2022-03-05T10:19:48.569083",
     "exception": false,
     "start_time": "2022-03-05T10:19:47.467053",
     "status": "completed"
    },
    "tags": []
   },
   "source": [
    "## Save trained model"
   ]
  },
  {
   "cell_type": "code",
   "execution_count": 14,
   "id": "95f78fbe",
   "metadata": {
    "execution": {
     "iopub.execute_input": "2022-03-05T10:19:50.769901Z",
     "iopub.status.busy": "2022-03-05T10:19:50.768726Z",
     "iopub.status.idle": "2022-03-05T10:19:50.770809Z",
     "shell.execute_reply": "2022-03-05T10:19:50.771441Z",
     "shell.execute_reply.started": "2022-02-28T06:12:38.114673Z"
    },
    "papermill": {
     "duration": 1.112839,
     "end_time": "2022-03-05T10:19:50.771914",
     "exception": false,
     "start_time": "2022-03-05T10:19:49.659075",
     "status": "completed"
    },
    "tags": []
   },
   "outputs": [],
   "source": [
    "# import os\n",
    "# os.mkdir('./Model'+str(current_cluster))"
   ]
  },
  {
   "cell_type": "code",
   "execution_count": 15,
   "id": "4c38480f",
   "metadata": {
    "execution": {
     "iopub.execute_input": "2022-03-05T10:19:52.958702Z",
     "iopub.status.busy": "2022-03-05T10:19:52.957616Z",
     "iopub.status.idle": "2022-03-05T10:19:52.961077Z",
     "shell.execute_reply": "2022-03-05T10:19:52.961723Z",
     "shell.execute_reply.started": "2022-02-28T06:12:38.12253Z"
    },
    "papermill": {
     "duration": 1.093075,
     "end_time": "2022-03-05T10:19:52.961894",
     "exception": false,
     "start_time": "2022-03-05T10:19:51.868819",
     "status": "completed"
    },
    "tags": []
   },
   "outputs": [],
   "source": [
    "# model.save('./Model'+str(current_cluster))"
   ]
  },
  {
   "cell_type": "code",
   "execution_count": 16,
   "id": "623d1d21",
   "metadata": {
    "execution": {
     "iopub.execute_input": "2022-03-05T10:19:55.184608Z",
     "iopub.status.busy": "2022-03-05T10:19:55.183539Z",
     "iopub.status.idle": "2022-03-05T10:19:55.187022Z",
     "shell.execute_reply": "2022-03-05T10:19:55.187661Z",
     "shell.execute_reply.started": "2022-02-28T06:12:42.381443Z"
    },
    "papermill": {
     "duration": 1.116895,
     "end_time": "2022-03-05T10:19:55.187838",
     "exception": false,
     "start_time": "2022-03-05T10:19:54.070943",
     "status": "completed"
    },
    "tags": []
   },
   "outputs": [],
   "source": [
    "# import shutil\n",
    "# shutil.make_archive('Model'+str(current_cluster), 'zip', './Model'+str(current_cluster))"
   ]
  }
 ],
 "metadata": {
  "kernelspec": {
   "display_name": "Python 3",
   "language": "python",
   "name": "python3"
  },
  "language_info": {
   "codemirror_mode": {
    "name": "ipython",
    "version": 3
   },
   "file_extension": ".py",
   "mimetype": "text/x-python",
   "name": "python",
   "nbconvert_exporter": "python",
   "pygments_lexer": "ipython3",
   "version": "3.7.12"
  },
  "papermill": {
   "default_parameters": {},
   "duration": 224.176759,
   "end_time": "2022-03-05T10:19:59.248684",
   "environment_variables": {},
   "exception": null,
   "input_path": "__notebook__.ipynb",
   "output_path": "__notebook__.ipynb",
   "parameters": {},
   "start_time": "2022-03-05T10:16:15.071925",
   "version": "2.3.3"
  }
 },
 "nbformat": 4,
 "nbformat_minor": 5
}
